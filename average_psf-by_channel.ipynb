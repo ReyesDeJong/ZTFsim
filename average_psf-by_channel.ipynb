{
 "cells": [
  {
   "cell_type": "code",
   "execution_count": null,
   "metadata": {},
   "outputs": [],
   "source": [
    "#python 2 and 3 comptibility\n",
    "from __future__ import absolute_import\n",
    "from __future__ import division\n",
    "from __future__ import print_function\n",
    "import json\n",
    "import io\n",
    "import gzip\n",
    "import base64\n",
    "from astropy.io import fits\n",
    "import matplotlib.pylab as plt\n",
    "import pickle as pkl\n",
    "import numpy as np\n",
    "%matplotlib inline\n",
    "\n",
    "data_path = '/home/asceta/Projects/Alerce/AlerceDHtest/datasets/ZTF'\n",
    "\n",
    "#with open('/home/asceta/LRPpaper/datasets/ZTF/reals.pkl', 'rb') as f:\n",
    "#    reals = pkl.load(f)\n",
    "#with open('/home/asceta/LRPpaper/datasets/ZTF/bogus.pkl', 'rb') as f:\n",
    "#    bogus = pkl.load(f)\n",
    "    \n",
    "#print('Number of reals: %d' %len(reals))\n",
    "#print('Number of bogus: %d' %len(bogus))"
   ]
  },
  {
   "cell_type": "code",
   "execution_count": null,
   "metadata": {},
   "outputs": [],
   "source": [
    "path = data_path+'/broker_reals.json'\n",
    "with open(path, \"r\") as f:\n",
    "        dataset = json.load(f)\n",
    "        \n"
   ]
  },
  {
   "cell_type": "code",
   "execution_count": null,
   "metadata": {},
   "outputs": [],
   "source": [
    "type(dataset)\n",
    "dataset.keys()"
   ]
  },
  {
   "cell_type": "code",
   "execution_count": null,
   "metadata": {
    "scrolled": true
   },
   "outputs": [],
   "source": [
    "len(dataset['query_result'])"
   ]
  },
  {
   "cell_type": "code",
   "execution_count": null,
   "metadata": {},
   "outputs": [],
   "source": [
    "dataset['query_result'][0].keys()"
   ]
  },
  {
   "cell_type": "code",
   "execution_count": null,
   "metadata": {},
   "outputs": [],
   "source": [
    "dataset['query_result'][0]['candidate']['fid']"
   ]
  },
  {
   "cell_type": "code",
   "execution_count": null,
   "metadata": {},
   "outputs": [],
   "source": [
    "psf_data_dict={\"g\":{}, \"r\":{}, \"i\":{}}"
   ]
  },
  {
   "cell_type": "code",
   "execution_count": null,
   "metadata": {},
   "outputs": [],
   "source": [
    "for channel in psf_data_dict.keys():\n",
    "    psf_data_dict[channel]={\"n_alerts\":{}, \"stamp\":{}, \"jd\":{}, 'mean_stamps':{}, 'mean_stamp_masked':{}}"
   ]
  },
  {
   "cell_type": "code",
   "execution_count": null,
   "metadata": {
    "scrolled": true
   },
   "outputs": [],
   "source": [
    "#n_alerts = {}\n",
    "#stamp_dict = {}\n",
    "#FWHM_dict = {}\n",
    "all_fwhm = []\n",
    "filters_ls = list(psf_data_dict.keys())\n",
    "for alert in dataset[\"query_result\"]:\n",
    "    fwhm = alert[\"candidate\"][\"fwhm\"]\n",
    "    jd = alert[\"candidate\"][\"jd\"]\n",
    "    fid = alert[\"candidate\"][\"fid\"]\n",
    "    all_fwhm.append(fwhm)\n",
    "    stamp = alert['cutoutDifference']['stampData']\n",
    "    stamp = base64.b64decode(stamp[\"$binary\"].encode())\n",
    "    with gzip.open(io.BytesIO(stamp), 'rb') as f:\n",
    "        with fits.open(io.BytesIO(f.read())) as hdul:\n",
    "            img = hdul[0].data\n",
    "\n",
    "    if fwhm in psf_data_dict[filters_ls[fid-1]]['n_alerts'].keys():\n",
    "        psf_data_dict[filters_ls[fid-1]]['n_alerts'][fwhm] += 1\n",
    "        psf_data_dict[filters_ls[fid-1]]['stamp'][fwhm].append(img)\n",
    "        psf_data_dict[filters_ls[fid-1]]['jd'][fwhm].append(jd)\n",
    "    else:\n",
    "        psf_data_dict[filters_ls[fid-1]]['n_alerts'][fwhm] = 1\n",
    "        psf_data_dict[filters_ls[fid-1]]['stamp'][fwhm] = [img,]\n",
    "        psf_data_dict[filters_ls[fid-1]]['jd'][fwhm] = [jd,]"
   ]
  },
  {
   "cell_type": "code",
   "execution_count": null,
   "metadata": {
    "scrolled": true
   },
   "outputs": [],
   "source": [
    "#fwhm hist\n",
    "plt.figure(figsize=(12,7))\n",
    "plt.hist(all_fwhm, bins=300)\n",
    "plt.vlines(x=1, ymin=0, ymax=600)\n",
    "plt.show()"
   ]
  },
  {
   "cell_type": "code",
   "execution_count": null,
   "metadata": {
    "scrolled": true
   },
   "outputs": [],
   "source": [
    "#plot stamps\n",
    "estimated_psfs = []\n",
    "channel = 'g'\n",
    "n_alerts = psf_data_dict[channel]['n_alerts']\n",
    "stamp_dict = psf_data_dict[channel]['stamp']\n",
    "for j, fw in enumerate(n_alerts.keys()):\n",
    "    if fw>1 and fw<12 and n_alerts[fw] >= 10:\n",
    "        aux_stamp_dict = stamp_dict[fw][:]\n",
    "        for i, s in enumerate(aux_stamp_dict):\n",
    "            aux_stamp_dict[i] = np.nan_to_num(s)[21:42, 21:42]\n",
    "            aux_stamp_dict[i] = aux_stamp_dict[i]/np.sum(aux_stamp_dict[i])\n",
    "        aux_stamp_dict = np.stack(aux_stamp_dict)\n",
    "        print(aux_stamp_dict.shape)\n",
    "        psf = np.mean(aux_stamp_dict, axis=0)\n",
    "        plt.imshow(psf)\n",
    "        plt.colorbar()\n",
    "        plt.title(str(fw)+\", \"+str(n_alerts[fw]))\n",
    "        plt.show()\n",
    "    if j == 8:\n",
    "        break"
   ]
  },
  {
   "cell_type": "code",
   "execution_count": null,
   "metadata": {},
   "outputs": [],
   "source": [
    "def createCircularMask(h, w, center=None, radius=None):\n",
    "\n",
    "    if center is None: # use the middle of the image\n",
    "        center = [int(w/2), int(h/2)]\n",
    "    if radius is None: # use the smallest distance between the center and image walls\n",
    "        radius = min(center[0], center[1], w-center[0], h-center[1])\n",
    "    radius = np.round(radius)\n",
    "    \n",
    "    Y, X = np.ogrid[:h, :w]\n",
    "    dist_from_center = np.sqrt((X - center[0])**2 + (Y-center[1])**2)\n",
    "\n",
    "    mask = dist_from_center <= radius\n",
    "    return mask"
   ]
  },
  {
   "cell_type": "code",
   "execution_count": null,
   "metadata": {},
   "outputs": [],
   "source": [
    "#calculate mean stamp and masked mean\n",
    "for channel in filters_ls:\n",
    "    n_alerts = psf_data_dict[channel]['n_alerts']\n",
    "    stamp_dict = psf_data_dict[channel]['stamp']\n",
    "    for j, fw in enumerate(n_alerts.keys()):\n",
    "        if fw>1 and fw<12 and n_alerts[fw] >= 10:\n",
    "            aux_stamp_dict = stamp_dict[fw][:]\n",
    "            for i, s in enumerate(aux_stamp_dict):\n",
    "                aux_stamp_dict[i] = np.nan_to_num(s)[21:42, 21:42]\n",
    "                aux_stamp_dict[i] = aux_stamp_dict[i]/np.sum(aux_stamp_dict[i])\n",
    "            aux_stamp_dict = np.stack(aux_stamp_dict)\n",
    "            #print(aux_stamp_dict.shape)\n",
    "            psf = np.mean(aux_stamp_dict, axis=0)\n",
    "            \n",
    "            #mask\n",
    "            mask = createCircularMask(21,21,radius=2.5*fw)\n",
    "            masked_psf = mask*psf\n",
    "            \n",
    "            #append mean stamp\n",
    "            psf_data_dict[channel]['mean_stamps'][fw] = psf\n",
    "            psf_data_dict[channel]['mean_stamp_masked'][fw] = masked_psf\n",
    "            #if fw in psf_data_dict[channel]['mean_stamps'].keys():\n",
    "                #psf_data_dict[channel]['mean_stamps'][fw].append(psf)\n",
    "            #else:\n",
    "                #psf_data_dict[channel]['mean_stamps'][fw] = [psf,]\n",
    "\n",
    "            #append mask\n",
    "            #if fw in psf_data_dict[channel]['mean_stamp_masked'].keys():\n",
    "            #    psf_data_dict[channel]['mean_stamp_masked'][fw].append(masked_psf)\n",
    "            #else:\n",
    "                #psf_data_dict[channel]['mean_stamp_masked'][fw] = [masked_psf,]"
   ]
  },
  {
   "cell_type": "code",
   "execution_count": null,
   "metadata": {
    "scrolled": true
   },
   "outputs": [],
   "source": [
    "from mpl_toolkits.axes_grid1 import make_axes_locatable, axes_size\n",
    "channel = 'g'\n",
    "samples = 5\n",
    "titles = [\"mean_stamps\", \"mean_stamp_masked\"]\n",
    "for j, fwhm in enumerate(psf_data_dict[channel]['mean_stamps']):\n",
    "    fig, ax = plt.subplots(nrows=1, ncols=len(titles), figsize=(int(len(titles)*5), 5))\n",
    "    plt.subplots_adjust(wspace = 0.5)\n",
    "    for i in range(len(ax)):\n",
    "        sample=psf_data_dict[channel][titles[i]][fwhm]\n",
    "        img = ax[i].imshow(sample)\n",
    "        #fig.colorbar()\n",
    "\n",
    "        ax[i].set_title(\"%s fwhm: %.2f -- n_alerts: %i \\n passband: %s\" % (titles[i], fwhm, \n",
    "                                                                           psf_data_dict[channel]['n_alerts'][fwhm],\n",
    "                                                                          channel))\n",
    "        divider = make_axes_locatable(ax[i])\n",
    "        width = axes_size.AxesY(ax[i], aspect=1./20)\n",
    "        pad = axes_size.Fraction(0.5, width)\n",
    "        cax = divider.append_axes(\"right\", size=width, pad=pad)\n",
    "        v = np.linspace(sample.min(), sample.max()*0.99999, 7, endpoint=True)\n",
    "        plt.colorbar(img, cax=cax, ticks=v)\n",
    "    #fig.colorbar(img)\n",
    "\n",
    "    if j==samples:\n",
    "        break"
   ]
  }
 ],
 "metadata": {
  "kernelspec": {
   "display_name": "Python 3",
   "language": "python",
   "name": "python3"
  },
  "language_info": {
   "codemirror_mode": {
    "name": "ipython",
    "version": 3
   },
   "file_extension": ".py",
   "mimetype": "text/x-python",
   "name": "python",
   "nbconvert_exporter": "python",
   "pygments_lexer": "ipython3",
   "version": "3.6.5"
  }
 },
 "nbformat": 4,
 "nbformat_minor": 2
}
