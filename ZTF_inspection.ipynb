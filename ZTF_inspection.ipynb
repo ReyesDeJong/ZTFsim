{
 "cells": [
  {
   "cell_type": "code",
   "execution_count": 1,
   "metadata": {},
   "outputs": [],
   "source": [
    "#python 2 and 3 comptibility\n",
    "from __future__ import absolute_import\n",
    "from __future__ import division\n",
    "from __future__ import print_function\n",
    "import json\n",
    "import io\n",
    "import gzip\n",
    "import base64\n",
    "from astropy.io import fits\n",
    "import matplotlib.pylab as plt\n",
    "import pickle as pkl\n",
    "import numpy as np\n",
    "%matplotlib inline\n",
    "\n",
    "data_path = '/home/ereyes/Alerce/ZTF_7_18'\n",
    "\n",
    "#with open('/home/asceta/LRPpaper/datasets/ZTF/reals.pkl', 'rb') as f:\n",
    "#    reals = pkl.load(f)\n",
    "#with open('/home/asceta/LRPpaper/datasets/ZTF/bogus.pkl', 'rb') as f:\n",
    "#    bogus = pkl.load(f)\n",
    "    \n",
    "#print('Number of reals: %d' %len(reals))\n",
    "#print('Number of bogus: %d' %len(bogus))"
   ]
  },
  {
   "cell_type": "code",
   "execution_count": 2,
   "metadata": {},
   "outputs": [],
   "source": [
    "def json2list(path):\n",
    "    #load json\n",
    "    with open(path, \"r\") as f:\n",
    "        dataset = json.load(f)\n",
    "    \n",
    "    samples_list = []\n",
    "    for i in range(len(dataset['query_result'])):\n",
    "\n",
    "        channels = []\n",
    "        for k, imstr in enumerate(['Template', 'Science', 'Difference']):\n",
    "            stamp = dataset['query_result'][i]['cutout'+imstr]['stampData']\n",
    "            stamp = base64.b64decode(stamp[\"$binary\"].encode())\n",
    "\n",
    "            with gzip.open(io.BytesIO(stamp), 'rb') as f:\n",
    "                with fits.open(io.BytesIO(f.read())) as hdul:\n",
    "                    img = hdul[0].data\n",
    "                    channels.append(img)\n",
    "        samples_list.append(np.array(channels))\n",
    "    return samples_list"
   ]
  },
  {
   "cell_type": "code",
   "execution_count": 3,
   "metadata": {},
   "outputs": [],
   "source": [
    "def check_samples_shapes(samples):\n",
    "    miss_shaped_sample_idx = []\n",
    "    for i in range(len(samples)):\n",
    "        sample = samples[i]\n",
    "        if sample.shape[0]!=3 or sample.shape[1]!=63 or sample.shape[2]!=63:\n",
    "            #print(\"sample %i of shape %s\" %(i,str(sample.shape)))\n",
    "            miss_shaped_sample_idx.append(i)\n",
    "    return miss_shaped_sample_idx\n",
    "\n",
    "#misshaped_reals = check_samples_shapes(reals)\n",
    "#misshaped_bogus = check_samples_shapes(bogus)\n",
    " \n",
    "#print('Number of misshaped reals: %d' %len(misshaped_reals))\n",
    "#print('Number of misshaped bogus: %d' %len(misshaped_bogus))"
   ]
  },
  {
   "cell_type": "code",
   "execution_count": 4,
   "metadata": {},
   "outputs": [],
   "source": [
    "#TODO padding non trivial by determining center\n",
    "\n",
    "def clean_misshaped(samples):\n",
    "    miss_shaped_sample_idx = check_samples_shapes(samples)\n",
    "    print('%d misshaped samples removed' %len(miss_shaped_sample_idx))\n",
    "    for index in sorted(miss_shaped_sample_idx, reverse=True):\n",
    "        samples.pop(index)\n",
    "    return np.moveaxis(np.array(samples), 1, -1)\n",
    "\n",
    "#reals_clean = clean_misshaped(reals)\n",
    "#bogus_clean = clean_misshaped(bogus)"
   ]
  },
  {
   "cell_type": "code",
   "execution_count": 5,
   "metadata": {},
   "outputs": [],
   "source": [
    "def crop_at_center(sample_numpy, cropsize=21):\n",
    "    center = int((sample_numpy.shape[1]-1)/2)\n",
    "    crop_side = int((cropsize-1)/2)\n",
    "    crop_begin = center-crop_side\n",
    "    crop_end = center+crop_side+1\n",
    "    #print(center)\n",
    "    #print(crop_begin, crop_end)\n",
    "    return sample_numpy[:,crop_begin:crop_end,crop_begin:crop_end,:]\n",
    "\n",
    "#reals_croped = crop_at_center(clean_misshaped(reals))\n",
    "#bogus_croped = crop_at_center(clean_misshaped(bogus))"
   ]
  },
  {
   "cell_type": "code",
   "execution_count": 6,
   "metadata": {},
   "outputs": [],
   "source": [
    "def zero_fill_nans(samples_numpy):\n",
    "    samples_with_nan_idx = []\n",
    "    for i in range(samples_numpy.shape[0]):\n",
    "        if(np.isnan(samples_numpy[i,...]).any()):\n",
    "            samples_with_nan_idx.append(i)\n",
    "    print('%d samples with NaNs' %len(samples_with_nan_idx))\n",
    "    return np.nan_to_num(samples_numpy)\n",
    "\n",
    "#reals_croped_padded = zero_fill_nans(crop_at_center(clean_misshaped(reals)))\n",
    "#bogus_croped_padded = zero_fill_nans(crop_at_center(clean_misshaped(bogus)))"
   ]
  },
  {
   "cell_type": "code",
   "execution_count": 13,
   "metadata": {},
   "outputs": [],
   "source": [
    "def remove_nans(samples_numpy):\n",
    "    samples_no_nan = []\n",
    "    count = 0\n",
    "    for i in range(samples_numpy.shape[0]):\n",
    "        if not (np.isnan(samples_numpy[i,...]).any()):\n",
    "            samples_no_nan.append(samples_numpy[i,...])\n",
    "    #print('%d samples with NaNs' %len(samples_with_nan_idx))\n",
    "    return np.array(samples_no_nan)\n",
    "\n",
    "#reals_croped_padded = zero_fill_nans(crop_at_center(clean_misshaped(reals)))\n",
    "#bogus_croped_padded = zero_fill_nans(crop_at_center(clean_misshaped(bogus)))"
   ]
  },
  {
   "cell_type": "code",
   "execution_count": 7,
   "metadata": {},
   "outputs": [],
   "source": [
    "#normalice each channel individually. Every channel of every sample will be 0-1 normalized\n",
    "def normalize_01(samples_numpy):\n",
    "    for i in range(samples_numpy.shape[0]):\n",
    "        for j in range(samples_numpy.shape[3]):\n",
    "            sample = samples_numpy[i,:,:,j]\n",
    "            normalized_sample = (sample-np.min(sample))/np.max(sample-np.min(sample))\n",
    "            samples_numpy[i,:,:,j] = normalized_sample\n",
    "    return samples_numpy\n",
    "\n"
   ]
  },
  {
   "cell_type": "code",
   "execution_count": 8,
   "metadata": {},
   "outputs": [],
   "source": [
    "def print_sample(img):\n",
    "    fig = plt.figure()\n",
    "    for k, imstr in enumerate(['Template', 'Science', 'Difference']):\n",
    "        ax = fig.add_subplot(1,3,k+1)\n",
    "        ax.axis('off')\n",
    "        ax.set_title(imstr)\n",
    "        ax.matshow(img[...,k])\n",
    "        "
   ]
  },
  {
   "cell_type": "markdown",
   "metadata": {},
   "source": [
    "# preprocessing"
   ]
  },
  {
   "cell_type": "code",
   "execution_count": 23,
   "metadata": {},
   "outputs": [
    {
     "name": "stdout",
     "output_type": "stream",
     "text": [
      "118 misshaped samples removed\n"
     ]
    }
   ],
   "source": [
    "reals = remove_nans(clean_misshaped(json2list(data_path+'/broker_reals.json')))\n",
    "#bogus_croped_padded_norm = normalize_01(zero_fill_nans(crop_at_center(clean_misshaped(json2list(data_path+'/broker_bogus.json')))))"
   ]
  },
  {
   "cell_type": "code",
   "execution_count": 24,
   "metadata": {},
   "outputs": [
    {
     "data": {
      "text/plain": [
       "(6054, 63, 63, 3)"
      ]
     },
     "execution_count": 24,
     "metadata": {},
     "output_type": "execute_result"
    }
   ],
   "source": [
    "reals.shape"
   ]
  },
  {
   "cell_type": "code",
   "execution_count": 19,
   "metadata": {},
   "outputs": [
    {
     "data": {
      "image/png": "[encoded data removed]",
      "text/plain": [
       "<matplotlib.figure.Figure at 0x7fbd96ac7e48>"
      ]
     },
     "metadata": {},
     "output_type": "display_data"
    }
   ],
   "source": [
    "print_sample(reals_croped_padded_norm[1050,...])"
   ]
  },
  {
   "cell_type": "code",
   "execution_count": 21,
   "metadata": {},
   "outputs": [
    {
     "data": {
      "text/plain": [
       "1.0"
      ]
     },
     "execution_count": 21,
     "metadata": {},
     "output_type": "execute_result"
    }
   ],
   "source": [
    "np.max(reals_croped_padded_norm)"
   ]
  },
  {
   "cell_type": "code",
   "execution_count": 22,
   "metadata": {},
   "outputs": [
    {
     "data": {
      "text/plain": [
       "0.0"
      ]
     },
     "execution_count": 22,
     "metadata": {},
     "output_type": "execute_result"
    }
   ],
   "source": [
    "np.min(reals_croped_padded_norm)"
   ]
  },
  {
   "cell_type": "markdown",
   "metadata": {},
   "source": [
    "# Save to pickle"
   ]
  },
  {
   "cell_type": "code",
   "execution_count": null,
   "metadata": {
    "collapsed": true
   },
   "outputs": [],
   "source": [
    "#with open('/home/asceta/LRPpaper/datasets/ZTF/reals_normed.pkl', 'wb') as f:\n",
    "#    pkl.dump(reals_croped_padded_norm, f)\n",
    "#with open('/home/asceta/LRPpaper/datasets/ZTF/bogus_normed.pkl', 'wb') as f:\n",
    "#    pkl.dump(bogus_croped_padded_norm, f)"
   ]
  },
  {
   "cell_type": "markdown",
   "metadata": {},
   "source": [
    "# Data summary"
   ]
  },
  {
   "cell_type": "code",
   "execution_count": 16,
   "metadata": {},
   "outputs": [
    {
     "name": "stdout",
     "output_type": "stream",
     "text": [
      "Number of reals: 7410\n",
      "Number of bogus: 1980\n"
     ]
    }
   ],
   "source": [
    "reals =json2list(data_path+'/broker_reals.json')\n",
    "bogus =json2list(data_path+'/broker_bogus.json')\n",
    "\n",
    "print('Number of reals: %d' %len(reals))\n",
    "print('Number of bogus: %d' %len(bogus))"
   ]
  },
  {
   "cell_type": "code",
   "execution_count": 17,
   "metadata": {},
   "outputs": [
    {
     "name": "stdout",
     "output_type": "stream",
     "text": [
      "118 misshaped samples removed\n"
     ]
    }
   ],
   "source": [
    "reals_noMissShape = clean_misshaped(reals)"
   ]
  },
  {
   "cell_type": "code",
   "execution_count": 18,
   "metadata": {},
   "outputs": [
    {
     "data": {
      "text/plain": [
       "(7292, 63, 63, 3)"
      ]
     },
     "execution_count": 18,
     "metadata": {},
     "output_type": "execute_result"
    }
   ],
   "source": [
    "reals_noMissShape.shape"
   ]
  },
  {
   "cell_type": "code",
   "execution_count": 21,
   "metadata": {},
   "outputs": [
    {
     "name": "stdout",
     "output_type": "stream",
     "text": [
      "1238 samples with NaNs\n"
     ]
    }
   ],
   "source": [
    "count = 0\n",
    "for i in range(reals_noMissShape.shape[0]):\n",
    "        if(np.isnan(reals_noMissShape[i,...]).any()):\n",
    "            count+=1\n",
    "print('%d samples with NaNs' %count)\n"
   ]
  },
  {
   "cell_type": "code",
   "execution_count": 12,
   "metadata": {},
   "outputs": [
    {
     "name": "stdout",
     "output_type": "stream",
     "text": [
      "Reals\n",
      "118 misshaped samples removed\n",
      "263 samples with NaNs\n",
      "\n",
      "Bogus\n",
      "29 misshaped samples removed\n",
      "1482 samples with NaNs\n"
     ]
    }
   ],
   "source": [
    "print(\"Reals\")\n",
    "reals_croped_padded_norm = normalize_01(zero_fill_nans(crop_at_center(clean_misshaped(json2list(data_path+'/broker_reals.json')))))\n",
    "print(\"\\nBogus\")\n",
    "bogus_croped_padded_norm = normalize_01(zero_fill_nans(crop_at_center(clean_misshaped(json2list(data_path+'/broker_bogus.json')))))"
   ]
  },
  {
   "cell_type": "code",
   "execution_count": 13,
   "metadata": {},
   "outputs": [
    {
     "name": "stdout",
     "output_type": "stream",
     "text": [
      "Number of reals after preprocessing: 7292\n",
      "Number of bogus after preprocessing: 1951\n"
     ]
    }
   ],
   "source": [
    "print('Number of reals after preprocessing: %d' % reals_croped_padded_norm.shape[0])\n",
    "print('Number of bogus after preprocessing: %d' % bogus_croped_padded_norm.shape[0])"
   ]
  },
  {
   "cell_type": "markdown",
   "metadata": {
    "collapsed": true
   },
   "source": [
    "# View Data"
   ]
  },
  {
   "cell_type": "code",
   "execution_count": 14,
   "metadata": {},
   "outputs": [
    {
     "name": "stdout",
     "output_type": "stream",
     "text": [
      "118 misshaped samples removed\n",
      "263 samples with NaNs\n",
      "29 misshaped samples removed\n",
      "1482 samples with NaNs\n"
     ]
    }
   ],
   "source": [
    "reals_croped_padded =zero_fill_nans(crop_at_center(clean_misshaped(json2list(data_path+'/broker_reals.json'))))\n",
    "bogus_croped_padded= zero_fill_nans(crop_at_center(clean_misshaped(json2list(data_path+'/broker_bogus.json'))))"
   ]
  },
  {
   "cell_type": "code",
   "execution_count": 25,
   "metadata": {},
   "outputs": [
    {
     "data": {
      "text/plain": [
       "1661.1898"
      ]
     },
     "execution_count": 25,
     "metadata": {},
     "output_type": "execute_result"
    }
   ],
   "source": [
    "names = ['Template', 'Science', 'Difference']\n",
    "reals_croped_padded[0,...][:,:,0].max()"
   ]
  },
  {
   "cell_type": "code",
   "execution_count": 29,
   "metadata": {
    "scrolled": false
   },
   "outputs": [
    {
     "name": "stdout",
     "output_type": "stream",
     "text": [
      "Template MIN:174.779037 MAX:1661.189819\n",
      "Science MIN:28.504150 MAX:1409.249512\n",
      "Difference MIN:-182.667297 MAX:587.606812\n"
     ]
    },
    {
     "data": {
      "image/png": "[encoded data removed]",
      "text/plain": [
       "<Figure size 432x288 with 3 Axes>"
      ]
     },
     "metadata": {},
     "output_type": "display_data"
    },
    {
     "name": "stdout",
     "output_type": "stream",
     "text": [
      "Template MIN:173.734329 MAX:1542.865234\n",
      "Science MIN:131.395233 MAX:881.292236\n",
      "Difference MIN:-37.510204 MAX:452.738739\n"
     ]
    },
    {
     "data": {
      "image/png": "[encoded data removed]",
      "text/plain": [
       "<Figure size 432x288 with 3 Axes>"
      ]
     },
     "metadata": {},
     "output_type": "display_data"
    },
    {
     "name": "stdout",
     "output_type": "stream",
     "text": [
      "Template MIN:174.378769 MAX:1661.044434\n",
      "Science MIN:135.198364 MAX:1343.542236\n",
      "Difference MIN:-83.936707 MAX:451.580414\n"
     ]
    },
    {
     "data": {
      "image/png": "[encoded data removed]",
      "text/plain": [
       "<Figure size 432x288 with 3 Axes>"
      ]
     },
     "metadata": {},
     "output_type": "display_data"
    },
    {
     "name": "stdout",
     "output_type": "stream",
     "text": [
      "Template MIN:174.624878 MAX:1750.367676\n",
      "Science MIN:151.667282 MAX:1757.899292\n",
      "Difference MIN:-46.698341 MAX:226.780121\n"
     ]
    },
    {
     "data": {
      "image/png": "[encoded data removed]",
      "text/plain": [
       "<Figure size 432x288 with 3 Axes>"
      ]
     },
     "metadata": {},
     "output_type": "display_data"
    },
    {
     "name": "stdout",
     "output_type": "stream",
     "text": [
      "Template MIN:174.636002 MAX:1668.680176\n",
      "Science MIN:97.866943 MAX:2072.683594\n",
      "Difference MIN:-121.516235 MAX:392.778748\n"
     ]
    },
    {
     "data": {
      "image/png": "[encoded data removed]",
      "text/plain": [
       "<Figure size 432x288 with 3 Axes>"
      ]
     },
     "metadata": {},
     "output_type": "display_data"
    },
    {
     "name": "stdout",
     "output_type": "stream",
     "text": [
      "Template MIN:169.308655 MAX:198.214233\n",
      "Science MIN:50.661133 MAX:331.250244\n",
      "Difference MIN:-130.493652 MAX:150.579300\n"
     ]
    },
    {
     "data": {
      "image/png": "[encoded data removed]",
      "text/plain": [
       "<Figure size 432x288 with 3 Axes>"
      ]
     },
     "metadata": {},
     "output_type": "display_data"
    },
    {
     "name": "stdout",
     "output_type": "stream",
     "text": [
      "Template MIN:281.588348 MAX:1750.717041\n",
      "Science MIN:221.468445 MAX:1612.409912\n",
      "Difference MIN:-63.554531 MAX:178.085190\n"
     ]
    },
    {
     "data": {
      "image/png": "[encoded data removed]",
      "text/plain": [
       "<Figure size 432x288 with 3 Axes>"
      ]
     },
     "metadata": {},
     "output_type": "display_data"
    },
    {
     "name": "stdout",
     "output_type": "stream",
     "text": [
      "Template MIN:283.202820 MAX:1650.064575\n",
      "Science MIN:273.450745 MAX:2694.569092\n",
      "Difference MIN:-20.748476 MAX:453.900208\n"
     ]
    },
    {
     "data": {
      "image/png": "[encoded data removed]",
      "text/plain": [
       "<Figure size 432x288 with 3 Axes>"
      ]
     },
     "metadata": {},
     "output_type": "display_data"
    },
    {
     "name": "stdout",
     "output_type": "stream",
     "text": [
      "Template MIN:281.795563 MAX:1783.808716\n",
      "Science MIN:265.288055 MAX:2998.438721\n",
      "Difference MIN:-107.928116 MAX:366.770752\n"
     ]
    },
    {
     "data": {
      "image/png": "[encoded data removed]",
      "text/plain": [
       "<Figure size 432x288 with 3 Axes>"
      ]
     },
     "metadata": {},
     "output_type": "display_data"
    },
    {
     "name": "stdout",
     "output_type": "stream",
     "text": [
      "Template MIN:281.551086 MAX:1611.439087\n",
      "Science MIN:272.872925 MAX:1963.356812\n",
      "Difference MIN:-52.456104 MAX:311.819855\n"
     ]
    },
    {
     "data": {
      "image/png": "[encoded data removed]",
      "text/plain": [
       "<Figure size 432x288 with 3 Axes>"
      ]
     },
     "metadata": {},
     "output_type": "display_data"
    }
   ],
   "source": [
    "for i in range(10):\n",
    "    img = reals_croped_padded[i,...]\n",
    "    for j in range(len(names)):\n",
    "        print('%s MIN:%f MAX:%f' %(names[j], img[:,:,j].min(), img[:,:,j].max()))\n",
    "    print_sample(img)\n",
    "    plt.show()"
   ]
  },
  {
   "cell_type": "code",
   "execution_count": 31,
   "metadata": {
    "scrolled": false
   },
   "outputs": [
    {
     "name": "stdout",
     "output_type": "stream",
     "text": [
      "Template MIN:0.000000 MAX:393.298553\n",
      "Science MIN:0.000000 MAX:658.942871\n",
      "Difference MIN:-222.302216 MAX:286.011505\n"
     ]
    },
    {
     "data": {
      "image/png": "[encoded data removed]",
      "text/plain": [
       "<Figure size 432x288 with 3 Axes>"
      ]
     },
     "metadata": {},
     "output_type": "display_data"
    },
    {
     "name": "stdout",
     "output_type": "stream",
     "text": [
      "Template MIN:0.000000 MAX:438.308014\n",
      "Science MIN:0.000000 MAX:925.511963\n",
      "Difference MIN:-217.696457 MAX:673.846130\n"
     ]
    },
    {
     "data": {
      "image/png": "[encoded data removed]",
      "text/plain": [
       "<Figure size 432x288 with 3 Axes>"
      ]
     },
     "metadata": {},
     "output_type": "display_data"
    },
    {
     "name": "stdout",
     "output_type": "stream",
     "text": [
      "Template MIN:0.000000 MAX:427.413483\n",
      "Science MIN:0.000000 MAX:834.328674\n",
      "Difference MIN:-33.452217 MAX:355.378387\n"
     ]
    },
    {
     "data": {
      "image/png": "[encoded data removed]",
      "text/plain": [
       "<Figure size 432x288 with 3 Axes>"
      ]
     },
     "metadata": {},
     "output_type": "display_data"
    },
    {
     "name": "stdout",
     "output_type": "stream",
     "text": [
      "Template MIN:0.000000 MAX:388.520538\n",
      "Science MIN:0.000000 MAX:862.560669\n",
      "Difference MIN:-144.350082 MAX:571.728333\n"
     ]
    },
    {
     "data": {
      "image/png": "[encoded data removed]",
      "text/plain": [
       "<Figure size 432x288 with 3 Axes>"
      ]
     },
     "metadata": {},
     "output_type": "display_data"
    },
    {
     "name": "stdout",
     "output_type": "stream",
     "text": [
      "Template MIN:0.000000 MAX:407.434814\n",
      "Science MIN:0.000000 MAX:738.525391\n",
      "Difference MIN:-122.395554 MAX:352.216400\n"
     ]
    },
    {
     "data": {
      "image/png": "[encoded data removed]",
      "text/plain": [
       "<Figure size 432x288 with 3 Axes>"
      ]
     },
     "metadata": {},
     "output_type": "display_data"
    },
    {
     "name": "stdout",
     "output_type": "stream",
     "text": [
      "Template MIN:0.000000 MAX:429.119263\n",
      "Science MIN:0.000000 MAX:511.605286\n",
      "Difference MIN:-73.128235 MAX:120.640274\n"
     ]
    },
    {
     "data": {
      "image/png": "[encoded data removed]",
      "text/plain": [
       "<Figure size 432x288 with 3 Axes>"
      ]
     },
     "metadata": {},
     "output_type": "display_data"
    },
    {
     "name": "stdout",
     "output_type": "stream",
     "text": [
      "Template MIN:0.000000 MAX:414.218170\n",
      "Science MIN:0.000000 MAX:744.561401\n",
      "Difference MIN:-41.867870 MAX:340.542480\n"
     ]
    },
    {
     "data": {
      "image/png": "[encoded data removed]",
      "text/plain": [
       "<Figure size 432x288 with 3 Axes>"
      ]
     },
     "metadata": {},
     "output_type": "display_data"
    },
    {
     "name": "stdout",
     "output_type": "stream",
     "text": [
      "Template MIN:0.000000 MAX:423.942413\n",
      "Science MIN:0.000000 MAX:694.437866\n",
      "Difference MIN:-94.927635 MAX:258.339935\n"
     ]
    },
    {
     "data": {
      "image/png": "[encoded data removed]",
      "text/plain": [
       "<Figure size 432x288 with 3 Axes>"
      ]
     },
     "metadata": {},
     "output_type": "display_data"
    },
    {
     "name": "stdout",
     "output_type": "stream",
     "text": [
      "Template MIN:0.000000 MAX:425.878754\n",
      "Science MIN:0.000000 MAX:609.225220\n",
      "Difference MIN:-47.017757 MAX:130.158859\n"
     ]
    },
    {
     "data": {
      "image/png": "[encoded data removed]",
      "text/plain": [
       "<Figure size 432x288 with 3 Axes>"
      ]
     },
     "metadata": {},
     "output_type": "display_data"
    },
    {
     "name": "stdout",
     "output_type": "stream",
     "text": [
      "Template MIN:0.000000 MAX:260.151703\n",
      "Science MIN:0.000000 MAX:360.288605\n",
      "Difference MIN:-90.566833 MAX:171.209152\n"
     ]
    },
    {
     "data": {
      "image/png": "[encoded data removed]",
      "text/plain": [
       "<Figure size 432x288 with 3 Axes>"
      ]
     },
     "metadata": {},
     "output_type": "display_data"
    }
   ],
   "source": [
    "for i in range(10):\n",
    "    img = bogus_croped_padded[100+i,...]\n",
    "    for j in range(len(names)):\n",
    "        print('%s MIN:%f MAX:%f' %(names[j], img[:,:,j].min(), img[:,:,j].max()))\n",
    "    print_sample(img)\n",
    "    plt.show()"
   ]
  },
  {
   "cell_type": "markdown",
   "metadata": {},
   "source": [
    "# SEE SKY"
   ]
  },
  {
   "cell_type": "code",
   "execution_count": 32,
   "metadata": {},
   "outputs": [
    {
     "name": "stdout",
     "output_type": "stream",
     "text": [
      "[[ 6.95295486e+01  1.05798321e+01  1.01173073e+02  8.71509476e+01\n",
      "   5.22682095e+00 -2.95836735e+01 -2.74795647e+01 -8.07226562e+00\n",
      "   1.71750202e+01 -2.00160065e+01 -3.35134292e+00 -8.05273666e+01\n",
      "   5.62913246e+01 -1.15469513e+02  5.49537201e+01 -5.51514864e+00\n",
      "   2.13207722e+01 -4.94794731e+01 -8.89375534e+01  1.70651188e+01\n",
      "  -1.12756264e+02]\n",
      " [ 9.18322945e+00 -4.96559334e+01 -2.46019554e+01 -4.55708275e+01\n",
      "   6.72096786e+01 -2.05747013e+01 -1.18265579e+02 -1.87555656e+01\n",
      "  -2.93209209e+01  6.21373405e+01  1.84564471e+00  5.84955215e+00\n",
      "  -8.89045715e-01  1.28681726e+01 -6.68954468e+01 -3.56851883e+01\n",
      "  -4.09504662e+01 -6.13714218e+00  2.79103255e+00 -5.77523346e+01\n",
      "  -7.33037424e+00]\n",
      " [-1.22735535e+02 -1.59217014e+01  2.79945469e+01 -4.62574043e+01\n",
      "   5.27652321e+01  6.87485809e+01 -5.39788017e+01 -6.11804924e+01\n",
      "   8.32287292e+01 -1.02696182e+02  2.30162048e+00 -1.35315674e+02\n",
      "   3.34444885e+01  3.80279770e+01  4.83799171e+01  4.32295456e+01\n",
      "   3.56836796e+00  4.89701424e+01  3.86247063e+01  1.16272552e+02\n",
      "  -1.28156948e+00]\n",
      " [ 3.17247086e+01  1.71696835e+01  2.33049412e+01  2.95944958e+01\n",
      "   5.19236221e+01  3.29338646e+01 -2.05236468e-02  1.25944920e+01\n",
      "  -6.98787498e+00  8.33798027e+00 -7.03864059e+01  8.67371216e+01\n",
      "  -8.22330704e+01  6.51005020e+01 -9.51407471e+01  4.41996231e+01\n",
      "  -1.13859772e+02 -3.12362528e+00  1.31130386e+02 -1.24749458e+02\n",
      "   7.66021347e+01]\n",
      " [ 4.79985275e+01  2.03918514e+01  2.16745701e+01  1.53478613e+01\n",
      "  -2.89218025e+01 -6.59425735e+01  9.42209148e+00 -2.29881134e+01\n",
      "  -5.50035210e+01 -7.36764221e+01  1.76447105e+01 -2.19023418e+01\n",
      "   2.09524670e+01 -1.34880829e+02  2.38114071e+01 -1.20553570e+01\n",
      "   1.02518738e+02 -2.37735214e+01 -1.26056282e+02  3.72872658e+01\n",
      "  -2.93828058e+00]\n",
      " [ 1.00695896e+01  8.84587402e+01 -2.65477047e+01 -1.77657890e+01\n",
      "  -1.09778397e+02 -1.14413170e+02 -1.09375153e+02  3.42152443e+01\n",
      "  -1.47165146e+01  9.03612518e+01 -1.02139595e+02  2.36739464e+01\n",
      "  -1.16409470e+02  3.57159691e+01 -4.43983650e+01 -5.03938332e+01\n",
      "   3.62371712e+01 -1.09992218e+01 -6.15340948e+00 -7.60155182e+01\n",
      "   6.29999924e+00]\n",
      " [-1.97988957e-01  1.31748838e+01 -7.85634689e+01 -1.91924191e+01\n",
      "   7.92194290e+01 -5.96398849e+01 -2.88919544e+01 -7.80616760e+01\n",
      "   2.79171848e+01 -3.40556488e+01  1.09944778e+02 -1.32905884e+02\n",
      "   5.45028419e+01 -5.55226974e+01  5.90755234e+01 -6.96876755e+01\n",
      "   9.81885376e+01  1.54981022e+01  5.51897125e+01  3.40766945e+01\n",
      "   4.14307747e+01]\n",
      " [-7.03269348e+01 -1.43803696e+02 -3.44741974e+01  8.44753456e+00\n",
      "  -5.97614861e+00  2.48625870e+01  1.02443825e+02 -1.03243113e+00\n",
      "  -8.00631409e+01  1.24825111e+02 -7.49061661e+01  7.90341644e+01\n",
      "  -9.99853897e+01 -9.87243881e+01 -1.93451881e+00 -1.51543770e+01\n",
      "  -1.17223606e+01 -7.33263397e+00  1.02186874e+02 -1.40848436e+01\n",
      "  -8.89789677e+00]\n",
      " [-6.55413818e+00  5.40365601e+01 -2.94811974e+01  1.18795357e+01\n",
      "   4.70298805e+01 -7.43862247e+00 -5.95388718e+01 -1.67650776e+01\n",
      "   1.01440369e+02 -1.82667297e+02 -1.27737465e+01 -7.47010574e+01\n",
      "   3.01280861e+01 -8.42288895e+01  3.14327831e+01 -2.17573090e+01\n",
      "  -5.25796242e+01  1.65220852e+01 -3.59054871e+01  3.97618408e+01\n",
      "  -5.81606064e+01]\n",
      " [ 4.36966476e+01 -1.17046928e+01  1.20823875e+02 -7.09259689e-01\n",
      "  -1.04461670e+02 -2.63750591e+01 -1.03072033e+01  8.18903656e+01\n",
      "   1.92859631e+01  5.39011230e+01  1.91818741e+02  1.32718613e+02\n",
      "   1.11025105e+01  5.21722019e-01  9.31503773e+00 -6.09576836e+01\n",
      "   3.57480145e+00  1.81545410e+01  3.86133080e+01 -5.26260567e+01\n",
      "  -2.56972542e+01]\n",
      " [-7.56193390e+01 -7.78311615e+01 -3.77740593e+01 -1.22748957e+01\n",
      "  -5.56513748e+01 -6.76228762e+00  1.23911255e+02 -3.07811146e+01\n",
      "   1.65748505e+02  1.67490021e+02  5.87606812e+02  3.05669983e+02\n",
      "   6.38134499e+01 -6.39821959e+00  2.27668266e+01  9.50802267e-01\n",
      "  -1.57529354e+01 -2.51886129e+00 -1.96431313e+01 -6.46577988e+01\n",
      "  -5.02864876e+01]\n",
      " [-4.41577625e+00  4.80279016e+00  5.23459778e+01  4.10066299e+01\n",
      "  -8.02830756e-01 -6.94081497e+01  3.12263775e+01 -1.86968269e+01\n",
      "   3.19084930e+01  2.52755524e+02  3.19272552e+02  2.12964539e+02\n",
      "   6.79581909e+01  7.45414886e+01 -3.73435974e+01 -6.29658604e+00\n",
      "  -3.43015137e+01 -3.28030167e+01  2.01382885e+01 -6.25472221e+01\n",
      "   5.30620193e+01]\n",
      " [-2.60541687e+01  4.43160820e+01  3.06955566e+01  6.14017200e+00\n",
      "  -2.37156200e+01 -3.02442253e-01 -5.14854469e+01 -2.31615887e+01\n",
      "   6.91506805e+01  3.58758049e+01  1.47927917e+02  6.20040817e+01\n",
      "   1.23876747e+02  3.88731117e+01 -2.85401268e+01  2.31793957e+01\n",
      "   6.97917938e-01 -5.87312737e+01 -4.64678841e+01  1.24365926e+00\n",
      "   1.14916925e+01]\n",
      " [ 2.81791325e+01 -2.78175297e+01 -4.78097458e+01  3.08638077e+01\n",
      "  -6.75015259e+00  1.24706535e+02  4.48957863e+01  8.28691788e+01\n",
      "  -8.73149490e+00  7.32686386e+01  3.66837807e+01  5.28459206e+01\n",
      "  -1.47563064e+00 -5.06265335e+01  4.05122223e+01 -1.91680851e+01\n",
      "   3.54998398e+00  1.95065250e+01 -1.30494919e+01  1.73435516e+01\n",
      "  -7.21347733e+01]\n",
      " [ 5.68597841e+00  7.93401871e+01 -3.71416359e+01  7.34542007e+01\n",
      "  -2.86658916e+01 -6.70589905e+01  2.85655117e+01  7.22106476e+01\n",
      "   6.45499878e+01 -2.18877602e+01  8.15781555e+01 -3.36915016e+01\n",
      "   7.21979141e+01 -4.40701027e+01 -2.60446720e+01  6.36676311e+00\n",
      "  -1.03333633e+02 -5.87966537e+01  2.43790627e+01  2.23405437e+01\n",
      "   1.22361193e+01]\n",
      " [-5.03583488e+01  6.60036697e+01 -2.44240055e+01  1.06578617e+01\n",
      "   1.89058285e+01  2.92254276e+01 -7.61069183e+01  5.91365576e+00\n",
      "   4.80097046e+01 -1.66571007e+01  3.24498482e+01  3.32506981e+01\n",
      "  -1.89432869e+01 -4.23479614e+01 -5.26136513e+01 -4.84943695e+01\n",
      "   8.25533142e+01 -1.48172836e+02 -4.94588699e+01 -7.48623810e+01\n",
      "   7.94759140e+01]\n",
      " [ 2.74435158e+01 -5.53887177e+00 -1.06226707e+00 -8.00478363e+01\n",
      "  -7.22256393e+01  2.10343933e+00  9.26731720e+01  6.07080231e+01\n",
      "  -2.13041000e+01 -8.32134705e+01  6.27212191e+00 -5.46463165e+01\n",
      "   3.65151367e+01  3.91818657e+01  1.95359287e+01 -8.01943741e+01\n",
      "   3.35297585e+01  1.10628380e+02 -1.72355576e+01  8.60697174e+01\n",
      "  -1.08614113e+02]\n",
      " [ 3.78931656e+01 -1.25215635e+01  2.93277130e+01 -6.24951668e+01\n",
      "  -3.98926125e+01 -7.52941742e+01 -6.93585739e+01 -2.95709395e+00\n",
      "  -1.34497833e+01 -2.56590729e+01 -5.43353348e+01  1.07002747e+02\n",
      "  -2.90497665e+01  8.57048035e+01 -8.26295319e+01 -3.83983727e+01\n",
      "   1.84066677e+01  4.19988976e+01 -1.11669884e+02  3.07572956e+01\n",
      "  -1.10224371e+01]\n",
      " [-2.38031654e+01 -2.35741882e+01 -2.57865009e+01 -7.48388138e+01\n",
      "  -8.31191540e+00  1.69719553e+00  1.10882788e+01 -4.55751266e+01\n",
      "   5.52054367e+01  9.30923843e+00 -4.22762032e+01 -2.14423504e+01\n",
      "  -8.19321518e+01  4.12721481e+01 -2.27886982e+01  3.48070984e+01\n",
      "  -2.55950260e+01 -3.90279465e+01 -3.24445610e+01 -8.63543320e+01\n",
      "  -3.20895457e+00]\n",
      " [-7.46168671e+01 -5.33322258e+01 -6.59976654e+01 -1.00687012e+02\n",
      "   2.70686746e+00  3.33444633e+01 -7.66193676e+00 -8.62792282e+01\n",
      "   7.76715012e+01  1.91544895e+01 -1.05233030e+01  9.08510208e+00\n",
      "   1.41704779e+01  1.69605503e+01 -9.16147137e+00 -8.30531845e+01\n",
      "   6.60931625e+01 -3.43253059e+01 -6.38968515e+00 -8.17295761e+01\n",
      "   1.88502979e+01]\n",
      " [-5.64900551e+01 -8.53200836e+01 -1.95451813e+01 -1.87382507e+01\n",
      "   6.00255013e+01 -2.92454510e+01  4.45947113e+01 -3.79746590e+01\n",
      "  -2.25876923e+01 -9.17653739e-01  6.89712067e+01  7.32502413e+00\n",
      "  -1.04254990e+02  2.69809628e+01 -1.31833963e+01  6.43049469e+01\n",
      "  -6.75935745e+01  4.60216188e+00 -7.88566065e+00 -1.72839489e+01\n",
      "  -1.92280636e+01]]\n",
      "[[-2.07280445e+01  3.27783823e+00 -2.52046108e+01  7.60884714e+00\n",
      "  -3.36932678e+01  2.45072861e+01 -2.00582790e+01  4.29845333e+00\n",
      "  -2.20221958e+01  8.94597721e+00 -2.06803417e+01  4.22853279e+01\n",
      "  -3.75102043e+01  1.97341385e+01 -9.09804630e+00  1.11440926e+01\n",
      "  -9.88955688e+00 -2.10852890e+01  1.19019903e-01 -3.74814949e+01\n",
      "   3.67497826e+01]\n",
      " [-3.51002336e+00 -1.50114787e+00 -2.06473789e+01 -2.04092312e+00\n",
      "  -3.47952223e+00 -2.75317249e+01 -2.81404662e+00 -1.17714958e+01\n",
      "   3.89729881e+01 -2.17569027e+01  1.95704288e+01 -8.73857975e+00\n",
      "   8.84749508e+00 -2.42364669e+00  1.72691364e+01 -2.49610405e+01\n",
      "   9.28920555e+00  2.45004978e+01 -3.26822357e+01  1.83847103e+01\n",
      "  -3.12066746e+01]\n",
      " [ 5.57779646e+00  1.35335226e+01 -2.25199471e+01 -1.47667046e+01\n",
      "  -1.12885666e+01  3.47958231e+00 -7.93527079e+00  2.70761318e+01\n",
      "  -6.11530876e+00  1.01756954e+01 -7.03597450e+00  2.62471161e+01\n",
      "  -2.45230598e+01 -3.59615350e+00  4.44310808e+00  3.98214269e+00\n",
      "   1.70175381e+01 -2.27443943e+01  1.49508944e+01 -2.90276718e+01\n",
      "   9.93984604e+00]\n",
      " [-9.57899761e+00 -1.21170580e+00  1.41034441e+01 -8.89071369e+00\n",
      "  -2.23032227e+01 -7.43335819e+00  6.82724714e+00 -2.46260490e+01\n",
      "   1.70118542e+01 -3.22816777e+00  1.25405693e+01 -2.88906403e+01\n",
      "   8.24666882e+00 -1.08661375e+01  6.83009243e+00 -9.60685134e-01\n",
      "  -5.76911879e+00  2.20708828e+01 -2.72830143e+01  3.31311531e+01\n",
      "  -2.46638393e+01]\n",
      " [-9.16118050e+00 -5.76715231e+00  4.19574814e+01  6.10209751e+00\n",
      "  -5.79421997e+00 -4.12456334e-01 -1.46286879e+01  1.20768766e+01\n",
      "  -2.92215557e+01  1.18125372e+01 -8.68980217e+00  1.48746214e+01\n",
      "  -1.69612617e+01  2.02638512e+01  5.47462559e+00 -6.29782104e+00\n",
      "   1.65425892e+01  2.30109191e+00 -9.78236103e+00  5.27393150e+00\n",
      "   2.58731931e-01]\n",
      " [-2.78565102e+01 -2.96454182e+01 -4.59316939e-01  1.90571618e+00\n",
      "   2.59653683e+01  6.95645142e+00  3.43505249e+01 -2.77339306e+01\n",
      "  -1.90351117e+00 -1.24922419e+00  1.55687313e+01  5.97029400e+00\n",
      "   2.54275436e+01 -5.95506048e+00  1.01521549e+01  1.82668376e+00\n",
      "  -1.21659698e+01  4.82862377e+00 -6.24023676e+00  1.84483681e+01\n",
      "  -2.18070679e+01]\n",
      " [-1.14959612e+01  1.95065174e+01 -2.41316104e+00  5.71695280e+00\n",
      "  -1.17071190e+01  1.25612125e+01 -1.15368099e+01 -6.11384535e+00\n",
      "   8.15796280e+00  3.00738192e+00  3.51392269e+00  1.39151487e+01\n",
      "  -2.98906374e+00 -1.06885872e+01  1.55682011e+01  9.47286606e+00\n",
      "   2.97679782e+00 -2.04736347e+01  7.03973949e-01  9.69226837e+00\n",
      "   4.33008270e+01]\n",
      " [ 3.33865047e+00 -1.41384954e+01  1.26311140e+01 -8.40844393e-01\n",
      "   8.64715004e+00 -3.52078438e+00 -5.79771233e+00 -6.20809126e+00\n",
      "   1.85853732e+00  1.85783710e+01  1.94010699e+00  1.37420282e+01\n",
      "   1.16743183e+01 -2.60767593e+01  5.72477388e+00  1.05929174e+01\n",
      "   6.31777644e-01 -1.69375057e+01 -2.29230547e+00  6.36784911e-01\n",
      "  -7.92721176e+00]\n",
      " [ 8.44221687e+00 -1.00742569e+01  1.51169167e+01 -1.58424149e+01\n",
      "   2.91737676e+00 -8.98028564e+00  1.61375961e+01 -1.32799149e+01\n",
      "   8.84408340e+01  1.65903763e+02  2.70346039e+02  7.32404099e+01\n",
      "   7.16064548e+00  1.29817781e+01 -5.65043640e+00  7.48112798e-02\n",
      "  -1.19776764e+01 -6.67038441e+00  1.47217951e+01 -1.40168257e+01\n",
      "   1.28252001e+01]\n",
      " [-7.47751760e+00 -3.85432339e+00 -1.40412979e+01 -4.41203403e+00\n",
      "  -2.96498036e+00 -5.80205154e+00  3.57059479e+01 -5.28071165e+00\n",
      "   1.49910736e+02  3.66909363e+02  4.52738739e+02  1.61310669e+02\n",
      "   1.25035410e+01  2.47807007e+01  1.42092533e+01 -2.92737365e+00\n",
      "  -7.58737230e+00 -1.55278625e+01 -7.54745340e+00 -1.99522972e+01\n",
      "   3.79636979e+00]\n",
      " [-1.72883110e+01  3.45976710e-01 -1.41910143e+01  1.72753277e+01\n",
      "  -4.52732944e+00  2.95021081e+00  1.28409576e+00  4.68542480e+01\n",
      "   1.34806396e+02  3.96957581e+02  3.81882019e+02  1.82741699e+02\n",
      "   2.16945801e+01  4.38491859e+01 -8.64125919e+00  2.99611607e+01\n",
      "   3.59415245e+00 -2.76013160e+00  3.07884622e+00 -1.13917751e+01\n",
      "   9.50869918e-01]\n",
      " [ 8.86903703e-01 -1.11864357e+01 -2.08271770e+01 -1.84544906e-01\n",
      "  -1.53568029e+01  5.05256796e+00  1.56423235e+01  5.08198891e+01\n",
      "   1.33039169e+02  2.10218246e+02  2.09522202e+02  1.08036469e+02\n",
      "   4.31276131e+01  3.67624569e+00 -8.37212944e+00  4.45159197e+00\n",
      "   6.00295353e+00 -6.05993891e+00  1.25729752e+01 -1.91597824e+01\n",
      "  -2.90863724e+01]\n",
      " [-2.35411263e+01  7.17602968e+00 -2.20797958e+01  1.07702627e+01\n",
      "   2.50288334e+01 -1.03404970e+01  1.16880846e+01  3.50366173e+01\n",
      "   5.11213760e+01  1.07670547e+02  8.98835678e+01  5.68950462e+01\n",
      "   1.79016495e+01 -2.62806773e+00 -6.71707392e-01  8.74477506e-01\n",
      "  -9.50798607e+00  8.41188622e+00  7.47896910e+00 -3.71216440e+00\n",
      "  -1.14828377e+01]\n",
      " [-2.37637501e+01 -2.43646145e+00 -2.06454029e+01  7.28360748e+00\n",
      "   1.06154165e+01  9.50369167e+00 -1.16906128e+01 -2.09426951e+00\n",
      "   5.17891388e+01  2.40272369e+01  4.18975716e+01  4.35174446e+01\n",
      "   2.10340261e+00  1.24604559e+01  1.09927826e+01  2.42405109e+01\n",
      "  -1.02158337e+01 -2.46177387e+01 -1.94033337e+01  2.02567654e+01\n",
      "   1.75890312e+01]\n",
      " [ 1.35930281e+01 -2.02967453e+01  2.99654293e+00  7.63126135e+00\n",
      "  -3.32116013e+01  4.05642176e+00 -2.37704601e+01  2.94266453e+01\n",
      "   1.19571953e+01  3.10731297e+01  2.20431938e+01  2.32491016e+01\n",
      "  -8.40071678e+00  8.14698875e-01 -2.33467884e+01  1.33730018e+00\n",
      "  -2.47339020e+01  8.30076873e-01  3.45669675e+00 -1.69889622e+01\n",
      "  -1.01821613e+00]\n",
      " [-6.85266542e+00 -1.83064861e+01 -1.13245811e+01 -5.45049763e+00\n",
      "   1.13823385e+01  1.63340778e+01 -9.98655701e+00 -1.42192450e+01\n",
      "   1.54313505e-01 -9.97736931e-01  8.33837450e-01 -6.65791845e+00\n",
      "   3.68214417e+00  7.58071613e+00 -1.75287914e+01 -6.75902796e+00\n",
      "  -2.43395305e+00  1.18986654e+01  1.00871181e+01  8.01572576e-02\n",
      "   7.20552385e-01]\n",
      " [ 1.38756304e+01 -2.19709606e+01  1.92469776e-01 -2.10760555e+01\n",
      "   1.10618124e+01 -9.80097353e-02 -5.46102810e+00 -6.27544641e+00\n",
      "  -1.30750599e+01 -9.66339588e+00  1.28795233e+01  7.78109217e+00\n",
      "   5.38988066e+00 -1.44425316e+01  8.99824810e+00 -6.56107807e+00\n",
      "  -2.84432650e+00 -4.34421968e+00 -5.22423649e+00  9.20969677e+00\n",
      "  -1.64903617e+00]\n",
      " [-1.13065586e+01  3.77328568e+01  6.80124712e+00  7.06279802e+00\n",
      "  -1.65217400e+01 -1.19881868e+01  2.23567677e+00 -5.89453161e-01\n",
      "   1.01225061e+01 -1.91747780e+01 -2.45791855e+01 -1.98652530e+00\n",
      "  -1.07791767e+01  8.88111973e+00 -6.79384470e-01 -1.45432539e+01\n",
      "  -8.09343719e+00  1.44419193e+01  1.10176945e+00 -4.43446636e+00\n",
      "  -7.41492891e+00]\n",
      " [ 4.16933155e+00  6.32139778e+00  1.54523313e+00 -9.62034893e+00\n",
      "   1.35208960e+01 -5.27312851e+00 -1.62110558e+01 -1.84949322e+01\n",
      "  -1.26120653e+01 -2.12782726e+01 -7.70764923e+00 -6.63270426e+00\n",
      "   1.23171854e+01  1.92528400e+01 -2.47474270e+01  2.49706125e+00\n",
      "  -1.88833199e+01 -4.71198177e+00 -1.39848070e+01  6.22502685e-01\n",
      "  -1.84197845e+01]\n",
      " [-1.57258148e+01  7.74307394e+00  4.03113699e+00 -6.31108904e+00\n",
      "  -1.06819258e+01 -1.82912636e+01  8.33840370e+00 -1.38234730e+01\n",
      "   2.89075446e+00  1.76771679e+01 -1.03922296e+00 -3.12672329e+01\n",
      "  -5.20285320e+00  6.13268948e+00 -4.65878040e-01 -1.68096886e+01\n",
      "   4.78401184e+00 -1.84527111e+00  2.62354870e+01 -2.75046215e+01\n",
      "   1.73292160e+01]\n",
      " [ 9.88648176e-01 -2.61912041e+01  5.46827540e-03 -2.48446250e+00\n",
      "  -6.68586063e+00 -2.82780495e+01  7.35827780e+00  1.73912964e+01\n",
      "  -1.49593763e+01  1.81402111e+01 -1.77110233e+01 -7.36338282e+00\n",
      "  -1.15191841e+00  1.61966305e+01  2.35708117e+00 -7.29870176e+00\n",
      "  -2.65148430e+01  8.45318127e+00  9.58651066e+00 -7.79314137e+00\n",
      "  -1.79309597e+01]]\n",
      "[[-3.8361969e+01 -2.4894819e+01 -2.0093180e+01 -1.3069377e+01\n",
      "  -6.1978335e+00  6.3993540e+00 -3.9570412e+01  4.0739021e+00\n",
      "   8.2858229e+00 -4.4950724e+00 -1.1703898e+01 -2.4316723e+01\n",
      "  -3.8219810e+01  2.9803137e+01 -3.6257553e+01  4.0783434e+00\n",
      "  -1.7938831e+01  9.7851686e+00 -2.8678034e+01  2.1888714e+01\n",
      "  -6.0460041e+01]\n",
      " [ 3.3703568e+01  1.5091793e+01 -3.1798805e+01 -1.3930041e+01\n",
      "  -2.3223667e+01  6.7761536e+00 -2.0277985e+01 -1.1211395e+01\n",
      "  -3.0334930e+01  1.2089166e+01 -1.7406248e+01 -1.6085238e+01\n",
      "  -3.1572571e+01 -2.1893152e+01 -2.1338543e+01 -3.5061680e+01\n",
      "  -1.1899167e+01 -3.8612648e+01 -2.8990547e+01  5.5184007e-01\n",
      "  -9.7927933e+00]\n",
      " [-5.5420814e+00  1.0561734e+01 -2.3589637e+00  2.1559012e+00\n",
      "  -4.2674465e+01 -2.7648240e-01 -4.0766441e+01 -2.0362371e+01\n",
      "  -2.1807148e+01 -3.4443371e+01 -2.3887316e+01  3.8135233e+00\n",
      "  -1.9451275e+01 -2.7280707e+00 -1.4681715e+00 -2.1372158e+01\n",
      "  -3.1532570e+01 -2.5593309e+00 -3.3337426e+00 -1.1553179e+01\n",
      "  -2.1120277e+01]\n",
      " [-9.8911123e+00 -3.3160553e+01  1.0047406e+00 -2.5093578e+01\n",
      "  -1.3985904e+01  2.0965694e+01 -4.4622893e+00  4.0266418e+01\n",
      "  -1.2747259e+01 -5.1111069e+01 -7.2824626e+00  1.3262415e+01\n",
      "  -5.1303663e+00  5.1730700e+00 -2.4878120e+01  1.2122578e+01\n",
      "  -1.9562246e+01 -3.7534134e+01 -6.5810685e+00 -2.4362297e+01\n",
      "  -1.7769087e+01]\n",
      " [ 5.6951199e+00  3.7224747e+01  9.7529736e+00  8.0875645e+00\n",
      "  -8.7690306e+00 -4.2241909e+01 -1.2393792e+01 -3.4489849e+01\n",
      "  -3.7797165e+01  5.1261950e+00 -2.0263521e+01 -3.9751045e+01\n",
      "   3.5067225e+00 -6.4072375e+00 -3.6869228e+01 -2.7272940e+00\n",
      "  -1.4379415e+01 -2.2089840e+01 -1.3263080e+01 -2.7683575e+01\n",
      "   6.0571486e-01]\n",
      " [ 7.9182720e+00 -3.5359985e+01 -8.3936707e+01 -3.8668629e+01\n",
      "   6.6017866e+00 -3.7641106e+01 -1.6262810e+01 -1.2283956e+01\n",
      "  -2.8973594e+00 -8.7491674e+00 -3.6517498e+01  2.2351851e+01\n",
      "  -2.8009821e+01 -7.8544207e+00 -1.1260300e+01 -1.3902079e+01\n",
      "  -6.3762021e+00 -1.8487484e+01 -3.3543556e+01 -2.9957371e+01\n",
      "  -3.7233025e+01]\n",
      " [-4.0182854e+01 -7.2853489e+00 -5.1831089e+01 -2.7288998e+01\n",
      "  -3.3267277e+01 -4.7248428e+01  2.9960034e+00 -3.2392437e+01\n",
      "   2.3863950e+00 -2.7874811e+01 -7.3873772e+01 -4.6572605e+01\n",
      "  -5.4319572e+01  1.9093672e+01 -2.7560659e+01 -3.0550072e+01\n",
      "  -1.5462051e+01 -3.2158161e+01  6.7074809e+00 -1.7535351e+01\n",
      "   3.4067451e+01]\n",
      " [-1.4771228e+01 -1.2744776e+01 -1.6546995e+01 -3.4258610e+01\n",
      "  -6.9652929e+00  1.0368370e+01  4.0602899e+00 -1.8366526e+01\n",
      "   7.3058344e-02 -2.7028175e+01  5.2540536e+00 -3.2049980e+00\n",
      "  -2.5007780e+00 -2.0500004e+01 -1.9601724e+00  2.9548134e+01\n",
      "  -1.5769220e+01  1.1020576e+01 -4.6940205e+01 -1.7587463e+01\n",
      "  -1.9174978e+01]\n",
      " [-3.2985287e+01 -3.3878369e+00 -2.6539783e+00 -3.2706242e+01\n",
      "  -4.5648015e-01  3.6514022e+00 -1.7574016e+00  1.1829258e+01\n",
      "  -3.2983022e+00 -9.0390482e+00  5.1238419e+01 -3.3413925e+01\n",
      "   9.2059040e+00  7.9907947e+00 -7.4231384e+01 -6.9329025e+01\n",
      "   2.7638992e+01 -6.3826084e+01 -1.7773554e+01  1.4854875e+01\n",
      "  -2.8632646e+00]\n",
      " [-3.2180172e+01 -5.3526902e+00 -3.9944290e+01 -3.3563557e+01\n",
      "   1.3199986e+01  2.2196360e+00  1.1554593e+01 -5.0065369e+01\n",
      "  -9.9729824e+00  6.0931301e+01  2.9474716e+02  3.8846472e+02\n",
      "  -1.7605093e-01  1.9737989e+01 -2.1482407e+01 -2.6741074e+01\n",
      "  -3.6199951e+01 -1.8801617e+01  6.0795584e+00 -5.9968600e+00\n",
      "  -2.4759287e+01]\n",
      " [-2.5453968e+01 -4.6089527e+01  9.5136375e+00 -1.9588219e+01\n",
      "  -2.6960915e+01  1.3554354e+01 -3.2268166e+01 -6.0258507e+01\n",
      "   2.2964907e+01  2.1087723e+02  4.5158041e+02  4.0871381e+02\n",
      "   1.2115880e+02 -6.8828140e+01  4.8469651e-01 -5.9466522e+01\n",
      "  -5.1412010e+00 -2.7385302e+01 -1.2964645e+01 -1.5228500e+01\n",
      "   2.8707125e+01]\n",
      " [-3.3365788e+01 -1.0624329e+01 -1.8955173e+01 -3.5739174e+01\n",
      "  -2.7128786e+01 -1.6695705e+01 -7.7147760e+00  1.7756513e-01\n",
      "   4.6428070e+01  8.8112686e+01  2.2155421e+02  1.4846616e+02\n",
      "   8.9527687e+01  1.9105179e+01  1.3253082e+00 -7.9876804e+00\n",
      "  -1.2616602e+01 -1.0448778e+01  1.0296797e+01  1.3293784e+01\n",
      "  -1.3449379e+01]\n",
      " [ 2.8156418e+01 -5.0580952e+01 -9.1903429e+00  1.6162021e+00\n",
      "  -2.3662401e+01 -3.9081734e+01 -3.5885351e+00  2.2756956e+01\n",
      "   6.7235255e+00  2.9261993e+01  1.6804951e+02  1.1047658e+02\n",
      "   4.7027421e+00  1.8650028e+01  1.0364564e+01  8.6386862e+00\n",
      "   2.0407400e+01 -2.3137438e+01  6.3928671e+00 -3.6284054e+01\n",
      "  -2.1559441e+01]\n",
      " [-3.5059764e+00  4.1353788e+00 -1.3955553e+01 -1.7932492e+00\n",
      "   1.1908170e+01 -2.3077471e+01 -3.6246517e+01 -2.0847115e+01\n",
      "  -2.7990261e+01  5.3676907e+01  3.1259331e+01  1.5416330e+01\n",
      "   6.8123498e+00  5.3005791e+00  2.6228369e+01 -6.5034542e+00\n",
      "   2.1802037e+00  1.1622959e+01 -1.5801241e+01 -3.4071342e+01\n",
      "  -4.2486023e+01]\n",
      " [-5.2014351e+01 -1.9807159e+01 -1.1907592e+01 -4.9612503e+01\n",
      "   2.5874138e+01 -2.8073427e+01 -4.1658825e+01 -3.8541348e+00\n",
      "  -2.4265215e+01  3.9224417e+00 -4.9234543e+00  2.6980295e+01\n",
      "  -2.6278748e+01 -3.6738834e+01  3.7929756e+01  2.6320190e+01\n",
      "  -1.9724085e+01  6.4762917e+00 -6.9697863e-01  6.3377681e+00\n",
      "  -1.1195684e+01]\n",
      " [-3.8933311e+01  1.8444777e+01 -7.0473547e+00 -3.0700848e+01\n",
      "  -5.2145741e+01 -2.8969475e+01  1.2992829e+01  6.9987674e+00\n",
      "   1.5587506e+01  2.4982622e+01 -1.1730986e+01 -3.1447868e+00\n",
      "  -4.4740524e+00 -6.1012540e+00 -1.1809594e+01  1.7066093e+01\n",
      "  -5.8864029e+01  1.6918404e+01 -2.7057457e+01 -1.8686924e+01\n",
      "  -3.2063928e+00]\n",
      " [-1.2758267e+01  4.8280579e-01 -2.3086927e+01 -2.6787710e+00\n",
      "  -6.2454891e+01 -1.1922761e+01 -1.7816004e+01 -6.2330008e+00\n",
      "  -4.0739735e+01  8.4962006e+00 -7.6567688e+00  9.3262177e+00\n",
      "  -1.5097418e+01 -3.5961323e+01  1.8697029e+01  7.0430660e+00\n",
      "  -1.3266764e+01 -4.3874237e+01 -4.0291035e+01 -1.3242662e+01\n",
      "   2.9288471e+00]\n",
      " [ 4.6118574e+00 -1.4460161e+01 -8.8190289e+00 -2.8256329e+01\n",
      "  -1.6740660e+01 -8.7954836e+00 -3.4209949e+01  1.6024699e+00\n",
      "  -1.1079922e+01 -1.4992160e+01 -4.2663147e+01 -3.3617947e+01\n",
      "  -2.0478893e+01  2.6158974e+01 -5.5032230e+01 -5.3450035e+01\n",
      "  -3.7198513e+01 -2.3104153e+01  3.3248761e+00 -3.9202361e+00\n",
      "   1.1237225e+01]\n",
      " [-1.3818365e+01 -1.3628346e+01 -1.4575936e+01 -3.2357220e+01\n",
      "  -6.6698771e+00  2.5962682e+00 -2.1339609e+01 -3.7571915e+01\n",
      "   3.8096235e+00 -1.7279703e+01 -3.6748512e+01 -1.2695625e+01\n",
      "  -4.2747869e+00  4.7422985e+01 -1.1023217e+01 -3.0910746e+01\n",
      "  -2.6411495e+01 -2.1415371e+01  1.9218924e+00 -6.9903915e+01\n",
      "   9.5295372e+00]\n",
      " [-3.4754994e+00 -4.6043941e+01 -5.0562214e+01 -1.3719930e+01\n",
      "   7.0384817e+00  1.5262301e+01 -2.4497652e+01 -1.8090862e+01\n",
      "  -1.6102283e+01 -1.7879538e+01 -4.0950546e+01 -7.6277251e+00\n",
      "  -1.1050637e+01 -3.1740858e+01 -1.4121683e+01 -2.4253916e+01\n",
      "   2.8292938e+01 -6.2560917e+01 -8.6975183e+00 -2.5294470e+01\n",
      "  -6.5948853e+00]\n",
      " [-4.2137703e+01  1.9103764e+01 -7.8872766e+00 -1.4092721e+01\n",
      "  -2.1942689e+00 -3.4697681e+01 -1.2906252e+00  2.8535543e+01\n",
      "  -3.5285839e+01 -2.6190399e+01 -1.7221842e+01 -3.4055222e+01\n",
      "  -1.4349012e+01 -3.3499763e+01 -6.0883842e+01 -2.2066759e+01\n",
      "  -5.7778311e+00 -9.7154818e+00 -4.4073990e+01 -2.0094982e+01\n",
      "  -1.1288500e+01]]\n",
      "[[-1.09406748e+01 -2.27071190e+00  7.43257952e+00 -1.89161396e+01\n",
      "   2.82274456e+01 -2.03094177e+01  1.53839960e+01 -1.76747990e+01\n",
      "   1.33035192e+01 -2.28586149e+00  9.05996799e+00 -1.75166413e-01\n",
      "  -2.08224297e+00 -8.13534111e-02 -2.31047630e+01  1.46961050e+01\n",
      "  -8.07606602e+00  9.45534706e+00 -4.66983414e+01  2.87302437e+01\n",
      "  -3.15896835e+01]\n",
      " [ 1.13874435e+01  1.01719856e+00 -1.38218665e+00  8.73558903e+00\n",
      "  -8.41080570e+00  1.25136499e+01 -1.84597473e+01  1.31654110e+01\n",
      "  -1.34840612e+01 -2.72464824e+00 -5.08272696e+00 -2.56455135e+00\n",
      "   2.08535271e+01 -1.13653316e+01  1.40530419e+00 -9.06680202e+00\n",
      "   1.10191832e+01 -2.65509148e+01  3.52976456e+01 -2.54972534e+01\n",
      "   1.35578146e+01]\n",
      " [ 7.81749725e+00 -1.37941809e+01  1.20664177e+01 -2.11966724e+01\n",
      "   1.02124624e+01 -6.91892481e+00  1.27069311e+01 -7.65162897e+00\n",
      "   1.86979234e+00 -2.29045544e+01  1.11147680e+01 -1.53907413e+01\n",
      "  -2.61871004e+00  1.22874174e+01  5.01827145e+00  4.67528152e+00\n",
      "  -2.78244114e+01  9.83572865e+00 -1.45027227e+01  2.98916302e+01\n",
      "  -3.45793114e+01]\n",
      " [-1.40408211e+01  7.88945627e+00 -1.10772467e+01  1.70932770e+01\n",
      "  -4.52297539e-01  8.91882300e-01  4.99640331e-02  2.18585415e+01\n",
      "  -2.02934971e+01  2.20294819e+01 -9.65704918e+00 -5.82868528e+00\n",
      "   9.04103756e-01  3.55888605e+00  2.52931442e+01 -7.29716110e+00\n",
      "   2.09266644e+01 -1.71908703e+01  2.70875225e+01 -1.27418203e+01\n",
      "   1.81135788e+01]\n",
      " [-5.48461628e+00  5.28141916e-01  8.27324677e+00 -7.18511009e+00\n",
      "   2.39755154e+01 -6.82679176e+00  9.41901588e+00 -3.05197868e+01\n",
      "   2.87050991e+01 -1.19871788e+01  2.17337608e+00  6.08955908e+00\n",
      "   3.95373553e-01 -2.48405910e+00 -1.63763523e+01  1.97101040e+01\n",
      "  -1.82876530e+01  2.90701160e+01 -1.28476925e+01  1.21917734e+01\n",
      "  -3.75813484e+00]\n",
      " [-1.91628170e+00 -1.31512709e+01 -4.38523674e+00 -4.25564194e+00\n",
      "  -2.06805878e+01  2.16360378e+01 -2.21544991e+01 -7.53639698e-01\n",
      "  -1.41071621e-02 -9.34557533e+00 -2.49369602e+01 -5.06666946e+00\n",
      "  -1.44918716e+00 -7.94700241e+00  1.32234449e+01 -1.12688100e+00\n",
      "   1.18350925e+01 -2.26657639e+01  2.02804146e+01 -3.33849144e+01\n",
      "   2.68859024e+01]\n",
      " [ 6.32625151e+00  3.74202418e+00  6.35622835e+00  1.01631565e+01\n",
      "   3.24583054e+00 -2.20326080e+01  1.22475834e+01 -2.37193241e+01\n",
      "   2.21836720e+01 -1.82054889e+00 -3.24337220e+00 -3.99958754e+00\n",
      "   7.77334213e-01  8.48981762e+00 -2.38893681e+01  2.67578793e+00\n",
      "  -1.95341110e+01  3.06676159e+01 -1.22006884e+01  2.37549973e+01\n",
      "  -2.92776413e+01]\n",
      " [-1.95256913e+00 -3.28212619e+00 -1.62388630e+01 -5.80697954e-01\n",
      "  -8.95066357e+00  1.50917244e+00 -1.32565260e+01  9.93812561e+00\n",
      "   7.46987677e+00  1.86327362e+01 -1.32080641e+01 -2.90134287e+00\n",
      "   8.50357056e+00  1.78133023e+00 -2.48770761e+00 -5.21903658e+00\n",
      "   3.68083611e+01 -2.32216549e+01  1.25124331e+01 -4.02354383e+00\n",
      "   2.23333416e+01]\n",
      " [ 2.18892956e+01  1.78351841e+01  4.10087538e+00 -5.68302250e+00\n",
      "   1.69673395e+00 -8.25069332e+00  2.96317649e+00  8.28372002e+00\n",
      "  -3.98972034e+00  1.71045933e+01  2.42036648e+01  5.05654831e+01\n",
      "   1.50828791e+01  2.98900545e-01 -1.78363883e+00 -7.40993172e-02\n",
      "  -1.40490189e+01  1.16081629e+01 -1.04341259e+01  8.38332891e-01\n",
      "  -3.37783241e+01]\n",
      " [ 3.16337198e-01  7.95175266e+00 -3.01580405e+00  7.54329205e+00\n",
      "   5.75679064e+00 -8.03620148e+00 -6.05009842e+00  2.07645092e+01\n",
      "   1.21161070e+01  7.40425568e+01  8.35369797e+01  5.70145645e+01\n",
      "  -7.37888288e+00 -3.53172255e+00  1.50239220e+01 -7.54780579e+00\n",
      "   2.00757942e+01 -9.83699703e+00  1.06954260e+01 -2.16095614e+00\n",
      "   5.03869629e+00]\n",
      " [ 1.27138090e+01  1.08361139e+01 -1.11928248e+00 -4.73779011e+00\n",
      "   1.72544651e+01 -1.15621638e+00  6.64125776e+00  2.74767375e+00\n",
      "   5.87410164e+01  1.51430832e+02  2.26780121e+02  1.77072601e+02\n",
      "   4.68780174e+01  2.54291649e+01 -7.53423119e+00  9.44245148e+00\n",
      "  -1.36670189e+01  2.76802087e+00 -1.34558573e+01  2.03045368e+01\n",
      "  -9.69039822e+00]\n",
      " [ 4.00229120e+00 -8.10378456e+00 -9.56560671e-01 -1.15488701e+01\n",
      "  -1.76056194e+00  7.27711058e+00 -1.88175602e+01  2.85467453e+01\n",
      "   4.14378929e+01  1.24128853e+02  1.33093353e+02  1.01127571e+02\n",
      "   3.79777260e+01  4.79589128e+00  2.18510580e+00 -6.99454641e+00\n",
      "   2.21781206e+00 -1.56451206e+01 -3.20690489e+00 -1.62142220e+01\n",
      "   2.56469345e+00]\n",
      " [ 1.61199722e+01 -8.21061611e+00  7.00532818e+00 -1.57230082e+01\n",
      "  -1.47018504e+00 -1.02406063e+01  1.48258381e+01  1.12267265e+01\n",
      "   2.99752045e+01  6.75852509e+01  8.99274139e+01  8.27706375e+01\n",
      "   2.85939922e+01  1.38553791e+01 -1.09726591e+01  9.16596127e+00\n",
      "  -4.43804932e+00  4.65419817e+00 -2.38375759e+00 -1.77389845e-01\n",
      "  -1.11322374e+01]\n",
      " [-4.87250376e+00  1.66812267e+01 -6.78458929e+00  1.63775711e+01\n",
      "  -2.22128201e+01  1.40969181e+00 -9.34466171e+00  2.17825756e+01\n",
      "   1.64249840e+01  4.12227173e+01  1.99233284e+01  5.85911083e+00\n",
      "   1.94775486e+01  2.17298641e+01  2.84245090e+01 -1.65599585e+00\n",
      "   1.35619097e+01  4.14544058e+00  1.19586325e+01 -1.22983875e+01\n",
      "  -2.10873814e+01]\n",
      " [-6.28901911e+00 -1.74085236e+00 -3.64701200e+00 -6.83727980e+00\n",
      "   1.23727455e+01 -2.09233060e-01  1.60854244e+01  2.84639418e-01\n",
      "   2.24118824e+01  1.14667120e+01  1.06178808e+01  2.34929676e+01\n",
      "   2.48480492e+01  4.84890318e+00  6.16931915e-01  1.37517815e+01\n",
      "  -5.23612642e+00  1.91039448e+01  8.13072681e+00 -2.99610543e+00\n",
      "   1.28918934e+00]\n",
      " [-1.04480066e+01 -7.07634020e+00 -5.20677662e+00  3.86056256e+00\n",
      "  -2.31057243e+01  1.72281799e+01 -9.77326691e-01  1.05005531e+01\n",
      "   2.24769020e+01 -8.15872192e+00 -1.38577843e+00  9.93880367e+00\n",
      "   1.87263832e+01  3.53409338e+00 -3.15740323e+00  6.86921549e+00\n",
      "   1.66824131e+01 -5.14275217e+00  1.21711073e+01 -2.22072830e+01\n",
      "   3.31931376e+00]\n",
      " [ 1.21538661e-01  2.05010176e+00  7.40272903e+00  6.86987162e+00\n",
      "   6.88171530e+00  1.25988877e+00  2.04780006e+01 -1.00194752e+00\n",
      "   5.83341539e-01 -1.53017771e+00  1.63425713e+01  1.63779411e+01\n",
      "   1.92059307e+01  3.59941316e+00 -1.02004395e+01  1.27092476e+01\n",
      "  -1.74951859e+01  9.59939766e+00  2.25431204e+00 -2.15747142e+00\n",
      "   7.48604393e+00]\n",
      " [-1.07860909e+01  2.03336887e+01 -6.27993488e+00 -2.35161734e+00\n",
      "   5.56467390e+00  1.36049290e+01  2.76503110e+00  1.11857681e+01\n",
      "  -1.19598074e+01 -9.04334927e+00  1.40934496e+01  5.89690208e+00\n",
      "  -3.53793359e+00 -4.07610273e+00  5.29870796e+00 -1.76735191e+01\n",
      "  -5.16046166e-01  3.02652097e+00  3.87778258e+00  2.14884830e+00\n",
      "   4.80031252e+00]\n",
      " [-1.62170868e+01 -1.06473646e+01  2.87931709e+01 -2.21492367e+01\n",
      "   1.11660734e-01 -8.86997414e+00  5.78258514e-01  1.10126314e+01\n",
      "  -1.54786801e+00 -1.55659914e+01 -1.48497267e+01  3.52592778e+00\n",
      "   7.63849020e-01  4.53108168e+00  1.64530716e+01  9.17128086e+00\n",
      "  -9.06195831e+00  5.46053267e+00  8.95600319e+00 -1.76154766e+01\n",
      "   3.04594874e+00]\n",
      " [ 3.93125010e+00  1.25834560e+01  1.90053291e+01 -3.80324841e-01\n",
      "  -1.15704937e+01  1.29459324e+01 -1.21107473e+01  3.94791889e+00\n",
      "  -9.15411758e+00 -1.16785836e+00  1.88902819e+00  1.65540075e+00\n",
      "  -6.86646938e+00  5.82742119e+00 -1.38044634e+01 -1.32848110e+01\n",
      "   8.47608662e+00 -5.45929861e+00  7.21215534e+00 -7.54733419e+00\n",
      "  -3.89269304e+00]\n",
      " [ 1.99753296e+00 -1.29699650e+01 -2.51456022e+00  1.74785602e+00\n",
      "  -7.16970778e+00  6.88102102e+00 -2.59538627e+00 -1.13232241e+01\n",
      "  -2.29051280e+00 -4.40431404e+00  7.65996158e-01  1.15332913e+00\n",
      "   7.76329422e+00  1.37089396e+01 -3.72752023e+00 -1.48197622e+01\n",
      "  -1.10425882e+01  3.52024245e+00  2.46708941e+00 -5.91228104e+00\n",
      "  -6.28619194e+00]]\n",
      "[[ 1.56556911e+01 -1.46265392e+01  1.82648623e+00  4.61050644e+01\n",
      "   7.97181559e+00  1.27073467e+00 -3.10162163e+01 -4.34055405e+01\n",
      "   3.91694908e+01  1.76035213e+01  2.62923851e+01 -7.40315866e+00\n",
      "   5.00535812e+01 -7.95683899e+01  1.03378685e+02 -4.16077118e+01\n",
      "   7.37366333e+01 -1.21516235e+02  8.33791580e+01 -5.36776810e+01\n",
      "   8.22977600e+01]\n",
      " [-4.15000057e+00  2.42163410e+01 -5.78652840e+01  1.03059711e+01\n",
      "  -2.81537304e+01 -2.42453232e+01 -1.34296579e+01  1.60935268e+01\n",
      "  -5.95963821e+01  8.73676682e+01 -6.10995827e+01  1.09297266e+01\n",
      "  -2.10810261e+01  9.63043022e+00  5.99696207e+00  6.06188354e+01\n",
      "  -8.16406937e+01  8.35014114e+01 -1.13110207e+02  7.85929794e+01\n",
      "  -5.93206520e+01]\n",
      " [ 5.13932288e-01 -3.16251850e+00  3.86104126e+01 -4.96340485e+01\n",
      "   1.83344212e+01  2.77586422e+01  3.82718620e+01 -3.77174416e+01\n",
      "   1.23856373e+01  1.58276415e+01 -2.21845474e+01 -2.62406521e+01\n",
      "   1.95282097e+01 -8.80975342e+00  2.52659473e+01 -7.62353821e+01\n",
      "   2.98093109e+01 -4.09407425e+01  3.31931419e+01 -5.03624458e+01\n",
      "   8.63982468e+01]\n",
      " [ 4.05392456e+01  4.14823418e+01  4.82311487e+00 -2.41340599e+01\n",
      "  -2.95778103e+01  5.44059486e+01 -6.85732193e+01  4.55462189e+01\n",
      "   3.01630993e+01  3.27621231e+01 -2.32252617e+01  6.01341772e+00\n",
      "   1.20705957e+01  4.39086189e+01  2.41336536e+01  7.31507645e+01\n",
      "  -1.10405340e+01  3.35139503e+01 -2.64049683e+01  4.65906067e+01\n",
      "  -2.65683861e+01]\n",
      " [-3.92392659e+00  1.80186005e+01 -1.59743423e+01 -2.48044276e+00\n",
      "   2.25690384e+01  3.87937236e+00  3.63131256e+01  5.03985214e+00\n",
      "   1.09760885e+01 -4.00709686e+01 -1.63917503e+01 -5.01852646e+01\n",
      "   3.03057218e+00 -3.61504211e+01  1.56902385e+00 -6.39923019e+01\n",
      "   6.36406593e+01 -3.22380028e+01  8.93311462e+01 -7.70276413e+01\n",
      "   4.28438988e+01]\n",
      " [ 6.44268646e+01 -4.90774184e-01 -2.54106712e+01  6.91774216e+01\n",
      "  -5.05751572e+01 -5.46553659e+00  2.83380184e+01 -1.21664848e+01\n",
      "   1.12329578e+01 -4.37205772e+01  4.26323462e+00  8.70928192e+01\n",
      "   3.56013918e+00 -2.56276569e+01 -2.76197853e+01  3.65852509e+01\n",
      "  -2.53400350e+00  3.75913277e+01 -1.47972622e+01  3.11968307e+01\n",
      "  -5.02324371e+01]\n",
      " [-1.04370089e+01 -3.19121971e+01 -4.22178230e+01  3.96665115e+01\n",
      "   3.92164268e+01 -2.96393929e+01  5.75146414e-02  7.31937456e+00\n",
      "  -1.48427379e+00 -1.21820927e+01  6.19213343e+00  1.26600409e+01\n",
      "   9.80791321e+01 -6.12127190e+01  3.86422610e+00 -6.07958488e+01\n",
      "   7.00056610e+01  6.01054096e+00  6.07139969e+01 -2.38900681e+01\n",
      "   5.78588562e+01]\n",
      " [-3.29815292e+01 -1.33803291e+01  5.45836563e+01 -4.10186119e+01\n",
      "   1.87612522e+00  4.74766588e+00  2.01323318e+01  2.37476616e+01\n",
      "  -2.20770130e+01 -2.61898446e+00 -4.86936340e+01 -9.86742783e+00\n",
      "   4.01265678e+01 -1.97743855e+01 -6.64383316e+01 -2.05394096e+01\n",
      "  -5.77030754e+01  1.37314539e+01  2.19332275e+01  6.33213120e+01\n",
      "   1.25953321e+01]\n",
      " [-2.88602519e+00  2.51710415e+01  3.01612930e+01 -6.88632536e+00\n",
      "  -2.41504612e+01  3.51731949e+01  3.35781980e+00 -1.89302886e+00\n",
      "   3.38788567e+01 -2.09156971e+01  2.58337059e+01  1.60988369e+01\n",
      "   1.54298811e+01  4.38708839e+01  3.77076187e+01  1.82021599e+01\n",
      "  -9.04939771e-02  2.26941509e+01  4.90988274e+01 -2.96974430e+01\n",
      "   4.36207848e+01]\n",
      " [-1.02624922e+01  3.31398430e+01 -1.56811619e+01  5.64837799e+01\n",
      "  -1.88235416e+01  2.01326218e+01 -1.09627066e+01  3.99207993e+01\n",
      "   3.09402428e+01  3.77365913e+01  1.48460220e+02  2.14949387e+02\n",
      "   1.23532257e+02 -8.20319061e+01  2.48214650e+00  9.72169590e+00\n",
      "  -3.12956333e+01 -2.55783253e+01 -8.04022217e+00 -1.37663567e-02\n",
      "  -1.89860744e+01]\n",
      " [-5.42655869e+01  4.78528938e+01 -2.72496433e+01  4.51888695e+01\n",
      "   2.53533039e+01 -7.35048752e+01  2.66621838e+01 -3.65505219e+01\n",
      "   1.20823112e+02 -2.01125183e+01  3.92778748e+02  5.91596184e+01\n",
      "   2.07621338e+02 -8.26350861e+01  9.58035583e+01 -1.66882305e+01\n",
      "   5.98242722e+01 -5.05227623e+01  5.97423630e+01 -2.52539120e+01\n",
      "   5.38270226e+01]\n",
      " [ 4.76685715e+01  4.09196854e+01  3.12824225e+00  4.96616516e+01\n",
      "   4.55024490e+01 -1.17760429e+01  3.11644478e+01  5.20482368e+01\n",
      "   5.08651505e+01  7.12623367e+01  2.81039551e+02  2.65159882e+02\n",
      "   9.02344971e+01 -5.07378349e+01  2.90066395e+01  1.27634268e+01\n",
      "   1.31575308e+01  4.39686728e+00 -1.27539053e+01  3.75435257e+01\n",
      "  -1.37687874e+01]\n",
      " [ 5.69904823e+01 -2.47660313e+01  4.54221230e+01  6.00513802e+01\n",
      "   7.67512512e+00 -1.36694736e+01 -3.02212582e+01  4.19374466e+01\n",
      "   1.18815994e+00  4.41698151e+01  3.65171204e+01  1.10492943e+02\n",
      "   7.97809372e+01  1.06571016e+01  2.75641289e+01  2.95632439e+01\n",
      "   4.78832102e+00  4.12902794e+01  3.37970085e+01 -8.71050739e+00\n",
      "   1.24641180e+00]\n",
      " [-2.39860840e+01  5.58287468e+01 -5.94270706e+00  1.37775192e+01\n",
      "  -2.70282440e+01  7.23510437e+01 -1.05063305e+01  3.73281174e+01\n",
      "  -5.04176044e+00  3.57464371e+01  2.45580654e+01  8.84680939e+01\n",
      "   6.74448090e+01  1.43679867e+01 -8.12221050e+00 -1.35798082e+01\n",
      "  -7.45816422e+00  2.12216492e+01 -2.81078529e+01  4.55199814e+01\n",
      "  -8.01716328e+00]\n",
      " [-3.64714355e+01  5.18696070e+00 -4.81063614e+01  2.40631676e+01\n",
      "  -1.76809740e+00  3.42930717e+01  4.75138931e+01 -6.76443434e+00\n",
      "   8.08980103e+01  2.11283898e+00  2.12460003e+01  1.10260086e+01\n",
      "   2.53512554e+01  6.73773527e+00  3.29801865e+01 -2.48308563e+01\n",
      "   2.96282530e+00 -4.28090477e+00  1.13215790e+01  5.57511091e+00\n",
      "   1.03237658e+01]\n",
      " [-6.31945658e+00  5.69658318e+01  3.15264874e+01  7.14624939e+01\n",
      "  -2.03261876e+00  8.12121048e+01  1.21564188e+01  4.75925941e+01\n",
      "  -3.93281593e+01 -2.96382725e-01  4.06804886e+01  4.82448349e+01\n",
      "   1.10085945e+01  2.99430299e+00 -6.80597448e+00 -3.29093590e+01\n",
      "  -1.36528835e+01  7.34876204e+00  9.07763004e+00  8.11072845e+01\n",
      "   4.17825851e+01]\n",
      " [ 2.57428417e+01 -2.49480190e+01 -1.61148701e+01  7.95269871e+00\n",
      "  -5.34761047e+00  2.54689445e+01  2.92142200e+01  2.94699764e+01\n",
      "  -1.72780876e+01 -2.19076595e+01 -1.38949690e+01  2.54478531e+01\n",
      "   1.95783825e+01  2.08034897e+01  2.38196790e-01  1.13754606e+01\n",
      "   3.08059826e+01  5.80719490e+01  1.24091063e+01 -1.31946516e+01\n",
      "   4.40549965e+01]\n",
      " [ 1.20185909e+01 -1.01611738e+01  1.48896427e+01  6.10050774e+00\n",
      "   6.13243818e+00  1.05451498e+01 -1.97800484e+01  9.20293961e+01\n",
      "   2.05136509e+01  3.01882076e+01  1.19104996e+01  2.71737556e+01\n",
      "   1.32118769e+01 -1.87496662e+01 -2.58705158e+01 -1.06822014e+01\n",
      "  -1.60692902e+01  5.05499535e+01 -2.33599129e+01  1.48871832e+01\n",
      "  -2.62016335e+01]\n",
      " [ 1.54135761e+01  3.48885841e+01 -2.48177314e+00 -5.91013288e+00\n",
      "  -2.10380020e+01 -5.23237407e-01  2.72659588e+01  4.46394234e+01\n",
      "   2.53341904e+01  1.10767221e+01  1.64881592e+01  2.90907135e+01\n",
      "  -8.28657150e-01 -1.60931568e+01  3.61216316e+01  3.25624199e+01\n",
      "   7.29935684e+01  2.77296562e+01 -1.92065048e+01  4.07684746e+01\n",
      "   1.33483305e+01]\n",
      " [-1.08751068e+01  2.01100311e+01  2.63680134e+01 -2.84161892e+01\n",
      "   4.19186096e+01  4.20812874e+01  1.94845543e+01 -2.25273876e+01\n",
      "   4.24780693e+01  2.66832495e+00 -2.08070393e+01 -1.11971636e+01\n",
      "   5.90311966e+01 -2.25561562e+01  8.89334488e+00  1.74240608e+01\n",
      "   3.96813889e+01 -4.95934010e+00 -5.91541138e+01 -3.67182493e+00\n",
      "   3.79679203e-01]\n",
      " [-4.45598106e+01  1.98697960e+00 -1.52086506e+01  3.42450905e+01\n",
      "   6.53182554e+00  9.69605982e-01  5.64884872e+01  5.07639961e+01\n",
      "  -2.16765556e+01  2.20194397e+01  4.67630463e+01  1.18775206e+01\n",
      "   3.46959000e+01  4.93049736e+01 -2.60931396e+01 -2.04914379e+01\n",
      "   4.09348450e+01 -4.82812309e+00 -2.61409760e+01  2.39771271e+01\n",
      "  -6.22714233e+00]]\n",
      "[[-3.26562271e+01  3.61350327e+01 -2.62512913e+01  7.85295820e+00\n",
      "  -2.66087418e+01 -3.23983645e+00 -4.18615417e+01 -4.52737885e+01\n",
      "   2.69158459e+00  3.40998688e+01 -1.90510159e+01 -4.81268549e+00\n",
      "  -4.63463211e+01  3.17911301e+01 -6.51533737e+01 -3.63238029e+01\n",
      "  -7.73064499e+01 -4.62200546e+01  1.10124521e+01 -6.52244263e+01\n",
      "  -3.72721100e+00]\n",
      " [-5.17789268e+01 -2.88841248e+01  9.18465996e+00  2.25900917e+01\n",
      "   3.47440224e+01  3.86267014e+01 -6.21176796e+01 -1.29338980e-01\n",
      "  -1.22493255e+00  1.56812572e+01 -2.25488625e+01  7.47024460e+01\n",
      "  -9.73174744e+01  2.76320858e+01 -1.38140430e+01 -4.30807266e+01\n",
      "   6.04996872e+01 -7.24724121e+01 -5.05663452e+01 -2.72238979e+01\n",
      "   5.13860855e+01]\n",
      " [-3.34780526e+00  3.13904114e+01  1.17481794e+01  1.56789722e+01\n",
      "   1.30328012e+00 -1.60685253e+01  6.95899248e+00  7.25729656e+00\n",
      "   4.62183876e+01 -3.02623043e+01 -8.03228302e+01  4.25680618e+01\n",
      "  -4.25982780e+01  2.60999756e+01  1.81043873e+01  1.81192684e+01\n",
      "   1.72534454e+00  3.29732323e+01 -3.43115330e+00  2.77224636e+01\n",
      "  -6.20663023e+00]\n",
      " [-5.87257957e+01 -2.20413265e+01  1.31772709e+01  4.87677498e+01\n",
      "   5.97216339e+01 -1.64131508e+01 -6.66321182e+00 -3.90779152e+01\n",
      "  -3.30895119e+01  3.52603798e+01 -3.09096642e+01  3.98051667e+00\n",
      "  -1.06245213e+01 -1.08195829e+01 -2.21938419e+01 -1.76941071e+01\n",
      "   2.99088516e+01 -1.07792101e+01  3.97724686e+01  3.26465149e+01\n",
      "  -1.07872505e+01]\n",
      " [ 1.65871906e+01  1.80964875e+00 -5.02682877e+01  1.15962973e+01\n",
      "  -6.30889740e+01 -8.28322983e+01  3.42441177e+01  8.39312744e+00\n",
      "  -3.83521309e+01 -3.05857334e+01 -4.13729439e+01 -6.99650497e+01\n",
      "  -7.40991688e+00 -6.53398666e+01 -5.50835705e+00  2.09974632e+01\n",
      "   2.60568447e+01  3.56014748e+01 -3.29812980e+00 -3.40006905e+01\n",
      "  -4.82266960e+01]\n",
      " [-1.94889450e+01 -2.13901734e+00 -1.22986145e+01  6.93897171e+01\n",
      "   4.17511902e+01 -1.19212427e+01  5.08521652e+01  3.64646683e+01\n",
      "  -4.00520325e+01 -1.34757586e+01 -3.58507085e+00  5.11756935e+01\n",
      "  -1.11310282e+01 -1.06904631e+01 -3.86008873e+01  3.40358620e+01\n",
      "  -1.44238100e+01 -1.76309605e+01 -8.44700146e+00  1.78933525e+01\n",
      "   6.92536011e+01]\n",
      " [ 2.34842052e+01 -1.32280321e+01 -3.58893356e+01  4.17500076e+01\n",
      "   8.25147247e+01 -6.81493092e+00  3.77807426e+01 -1.60492306e+01\n",
      "  -5.32222214e+01 -5.91097755e+01  3.48963089e+01  2.54065838e+01\n",
      "  -6.06027031e+00 -9.54642963e+00 -3.04704514e+01 -1.17072172e+01\n",
      "   1.65371056e+01 -4.63788748e+00  3.38977928e+01  2.88951778e+01\n",
      "   4.59026384e+00]\n",
      " [-2.56270695e+01 -7.81895447e+00 -4.41334915e+01  4.67020988e+01\n",
      "   3.04711704e+01  3.45634842e+01  3.03506432e+01 -3.62579689e+01\n",
      "   4.64038239e+01 -4.78869057e+01 -2.19222088e+01  6.60248804e+00\n",
      "  -1.34128008e+01 -6.59985657e+01  6.79285812e+01  1.58860083e+01\n",
      "  -8.13833237e+00 -4.41578560e+01 -3.44143639e+01 -5.19074554e+01\n",
      "   7.53651581e+01]\n",
      " [-8.53028357e-01 -2.66428585e+01 -3.59651178e-01 -5.72745705e+01\n",
      "   5.95431213e+01 -2.74021721e+01 -5.78175545e+01  4.89824200e+00\n",
      "   1.15642691e+01  2.34750328e+01  8.47400436e+01  1.64060860e+01\n",
      "  -9.92634773e+00 -1.19409189e+01 -2.15377502e+01 -3.62096710e+01\n",
      "  -2.29113140e+01 -3.54699287e+01 -9.23071671e+00  5.03800917e+00\n",
      "  -2.13464851e+01]\n",
      " [ 4.45875549e+00  1.30626879e+01  6.46133118e+01  2.27145805e+01\n",
      "  -1.96391582e+01  2.77484596e-01  1.35792179e+01 -6.70710373e+00\n",
      "   8.94301605e+01  9.97964630e+01  7.94455338e+01  7.30766983e+01\n",
      "   1.24412544e+02  3.68617058e+01  4.78936768e+01 -5.94621620e+01\n",
      "  -7.54761517e-01  6.24014235e+00 -8.83042908e+00 -3.56198769e+01\n",
      "  -1.54363756e+01]\n",
      " [ 7.20145988e+00 -2.20770836e+01 -1.12672897e+02 -1.85831623e+01\n",
      "  -2.68203659e+01  2.46151123e+01 -1.37437906e+01  4.68691349e+00\n",
      "   7.46777039e+01  1.50579300e+02  1.05452599e+02  1.30585281e+02\n",
      "   3.76217461e+01  3.99944735e+00  1.99971123e+01  5.14569054e+01\n",
      "  -2.61183262e+01  2.82673321e+01  5.19337540e+01 -6.36047821e+01\n",
      "  -3.38863487e+01]\n",
      " [ 2.95361614e+00 -1.89326000e+01  5.03603745e+01 -3.73354187e+01\n",
      "  -1.45449905e+01 -6.19667482e+00  4.54338646e+01 -7.75151873e+00\n",
      "   7.46345291e+01  8.00122604e+01  8.38487091e+01  7.58455429e+01\n",
      "   4.70874643e+00  9.51926498e+01  3.20159721e+01 -2.41608486e+01\n",
      "   2.82428474e+01 -2.78309422e+01 -3.11840172e+01  3.95984001e+01\n",
      "  -2.56074944e+01]\n",
      " [-2.66211472e+01  6.71252632e+00  4.71321630e+00  8.56828995e+01\n",
      "   1.35404749e+01 -3.20856514e+01  4.50245714e+00  4.29035454e+01\n",
      "  -2.06463261e+01  9.87819214e+01  3.49611282e+01  2.47435284e+01\n",
      "  -4.16431046e+01  7.71110001e+01  7.77172232e+00 -2.18711834e+01\n",
      "  -5.76913414e+01 -3.49292984e+01  2.90612869e+01  3.84520721e+01\n",
      "  -6.30957794e+00]\n",
      " [ 2.34510021e+01 -9.01139450e+00  1.91389275e+01 -2.01947803e+01\n",
      "   5.43972683e+00  3.14779663e+01  1.62407703e+01  3.47019348e+01\n",
      "  -6.61032820e+00  4.38335037e+01 -2.35588188e+01 -2.46161652e+01\n",
      "  -3.97460136e+01 -2.04889393e+01  3.84455719e+01 -1.72056599e+01\n",
      "  -6.34240150e+01  2.10130310e+01  1.84637756e+01  2.48469601e+01\n",
      "  -4.57734489e+01]\n",
      " [-4.25975571e+01  2.89859562e+01 -9.25541992e+01 -8.71847610e+01\n",
      "  -1.35880480e+01 -3.44637947e+01 -3.99584808e+01  1.97602692e+01\n",
      "   7.85518789e+00  6.79626894e+00 -2.42360191e+01 -1.28014956e+01\n",
      "  -6.55133820e+01  6.01528816e+01  8.41060543e+00 -2.92672253e+01\n",
      "  -3.40861168e+01 -1.82774353e+01 -3.81370926e+01  2.94721928e+01\n",
      "  -1.82284737e+01]\n",
      " [ 1.34568348e+01 -4.24750566e+00 -2.96174836e+00  5.49322014e+01\n",
      "  -4.43130207e+00 -4.61798515e+01  6.92408705e+00 -5.94092941e+01\n",
      "  -4.78721771e+01  1.20816517e+01 -4.25863886e+00  4.12248755e+00\n",
      "  -2.44468060e+01 -5.18382549e+00  3.78641653e+00  2.67474222e+00\n",
      "  -5.54006195e+00 -3.57789345e+01 -1.55417967e+01  2.34675636e+01\n",
      "  -1.32040405e+01]\n",
      " [-1.30493652e+02  2.02780743e+01 -1.58342886e+01  2.70149937e+01\n",
      "  -1.55207357e+01 -2.40283132e+00 -8.42688465e+00  5.38529129e+01\n",
      "   4.16048126e+01 -2.11215067e+00  3.00878181e+01 -1.42941399e+01\n",
      "   9.07777977e+00  8.00282836e-01  8.92975807e+00 -2.63405952e+01\n",
      "   1.57693396e+01  3.75665641e+00 -9.03003693e+01 -5.48227348e+01\n",
      "   2.52985249e+01]\n",
      " [-1.86319561e+01  2.64783611e+01 -4.98059845e+00  4.09452057e+01\n",
      "  -2.17640362e+01 -2.83003979e+01  9.70261633e-01  1.68815536e+01\n",
      "  -4.90917397e+01 -2.66716652e+01 -1.82027149e+01  6.64534988e+01\n",
      "   1.83138752e+01 -1.61480331e+01  7.59052873e-01 -3.82543449e+01\n",
      "  -2.15216389e+01 -3.74427414e+01  3.49527473e+01  1.77033100e+01\n",
      "   2.02475357e+01]\n",
      " [-7.81720543e+00  2.17498131e+01  1.38852205e+01 -9.26268997e+01\n",
      "  -6.47600412e+00  3.78661466e+00  2.94200850e+00 -3.27837992e+00\n",
      "   7.29124451e+01  1.29723444e+01 -5.26876564e+01  3.02143478e+01\n",
      "  -1.66068344e+01  7.11686707e+01  1.04106655e+01 -2.64091721e+01\n",
      "  -3.89403458e+01 -4.17377357e+01  1.41950285e+00  1.72963371e+01\n",
      "  -4.47093620e+01]\n",
      " [-2.06400261e+01 -2.32979832e+01  9.41422462e+00 -3.11924343e+01\n",
      "   2.36061115e+01 -9.04825134e+01  1.32734432e+01 -3.70620608e+00\n",
      "  -1.53548870e+01 -3.88484573e+01  2.98627434e+01 -6.45192337e+01\n",
      "  -9.80474243e+01 -2.15534153e+01  1.39715261e+01 -3.60572433e+01\n",
      "  -4.94225655e+01 -3.70554390e+01  7.34321442e+01  4.74387217e+00\n",
      "  -1.68274899e+01]\n",
      " [-4.48179092e+01  1.37843227e+00 -4.95429039e+01  2.90881100e+01\n",
      "   4.23787270e+01  8.21801090e+00 -6.47723389e+01  5.69085083e+01\n",
      "  -7.87674026e+01 -5.88041420e+01 -4.05367994e+00 -2.04341908e+01\n",
      "  -3.62483826e+01 -2.67389088e+01  6.57829571e+00  1.34113693e+01\n",
      "  -2.30292106e+00 -8.40400994e-01 -3.95107231e+01  6.20912628e+01\n",
      "  -2.34954090e+01]]\n",
      "[[-6.55530310e+00  2.92802410e+01  3.92277956e-01 -3.28048630e+01\n",
      "  -7.70991945e+00  9.87512398e+00  2.72433281e+01  1.08200865e+01\n",
      "   2.28186569e+01  4.58109093e+00 -2.59930630e+01  3.70482597e+01\n",
      "   7.66641140e+00 -1.41489229e+01 -9.48322296e+00 -3.90359764e+01\n",
      "  -6.73309231e+00 -2.62591400e+01  4.38018703e+00 -2.73031521e+01\n",
      "   9.01415157e+00]\n",
      " [ 1.20021534e+00  1.55016365e+01 -1.08537931e+01 -4.65506172e+01\n",
      "   2.78770905e+01 -1.32609930e+01 -1.11195374e+01  1.24393778e+01\n",
      "   5.42849083e+01  1.32348471e+01  1.96356449e+01  2.57710304e+01\n",
      "  -6.33470774e+00  1.76016388e+01 -3.27182655e+01 -1.59164848e+01\n",
      "  -2.49398861e+01  3.70635223e+00 -1.29175930e+01 -6.01025037e-02\n",
      "  -4.68526268e+01]\n",
      " [ 6.04535561e+01 -1.85594444e+01 -4.07682896e+00 -1.43784981e+01\n",
      "  -2.70146141e+01  6.26670599e+00  5.34009552e+00  1.38155520e+00\n",
      "  -7.48395872e+00  1.70733624e+01  2.06394863e+01  1.24554081e+01\n",
      "   2.42903695e-01 -1.52793360e+01  3.97956085e+01 -3.60852318e+01\n",
      "  -2.17725449e+01 -2.77209740e+01  1.56095448e+01 -1.37091780e+00\n",
      "  -6.35545311e+01]\n",
      " [-4.80196648e+01 -1.54538035e+00 -1.89149261e-01  1.86906872e+01\n",
      "   2.91831570e+01 -1.62408447e+01  3.31737213e+01  5.39309406e+00\n",
      "  -1.59850092e+01 -4.46251907e+01  6.94684744e+00  1.36051321e+01\n",
      "  -4.49727592e+01 -3.66341138e+00 -2.53195724e+01  5.23962831e+00\n",
      "  -1.62202873e+01  4.49845734e+01  2.71804981e+01 -1.90898647e+01\n",
      "   8.34517300e-01]\n",
      " [ 1.86765366e+01  1.11462622e+01 -8.68463993e+00  3.15881634e+01\n",
      "   2.04382248e+01  5.34403610e+01 -1.57391672e+01  5.10187054e+00\n",
      "  -2.07428608e+01 -1.64846306e+01  3.12959747e+01  6.71476412e+00\n",
      "  -1.68245506e+01  2.38011627e+01 -3.15501523e+00  7.48510742e+01\n",
      "   1.61821518e+01 -8.82761192e+00  1.61887431e+00 -5.32238617e+01\n",
      "  -1.42172146e+00]\n",
      " [-6.89587545e+00  3.90983047e+01  3.51061940e+00 -3.63231354e+01\n",
      "  -1.60348110e+01 -2.68728409e+01  3.70545769e+01  5.86126947e+00\n",
      "  -8.17791557e+00 -2.06352196e+01  4.02698860e+01  2.25999603e+01\n",
      "   7.26535416e+00 -4.53729439e+01 -2.41601467e+00 -4.59513702e+01\n",
      "  -1.04165621e+01  3.10300808e+01  9.22725391e+00 -3.31841888e+01\n",
      "   6.22213364e+00]\n",
      " [-1.22610016e+01  3.90434685e+01  1.74876633e+01  7.40443945e+00\n",
      "  -3.63853912e+01 -3.60103836e+01 -3.10240626e-01  8.10025253e+01\n",
      "   8.34362125e+00 -9.34399223e+00  7.93021917e+00  4.36918306e+00\n",
      "  -2.20771751e+01  2.28187199e+01 -4.66355515e+01  8.33688354e+01\n",
      "  -1.59955139e+01  8.24692383e+01  3.22855926e+00 -2.64924145e+01\n",
      "  -2.62862225e+01]\n",
      " [ 3.49823685e+01  6.97589684e+00 -2.00594311e+01 -5.81315327e+00\n",
      "  -2.24176159e+01 -3.92117538e+01 -1.14468164e+01 -1.89685688e+01\n",
      "   1.36505404e+01  7.42912102e+00  2.73446732e+01 -2.76951561e+01\n",
      "   7.45216560e+00  4.13928909e+01  1.01741238e+01  2.78360009e+00\n",
      "  -2.64783802e+01  6.23994684e+00  1.51585519e+00  1.14941816e+01\n",
      "  -8.52459908e+00]\n",
      " [-1.04367990e+01  5.74492931e+00  1.28996344e+01  5.42294598e+00\n",
      "  -1.12071266e+01 -4.39607544e+01 -6.09736586e+00 -1.68927059e+01\n",
      "   2.42407818e+01  1.64483821e+00  4.21010399e+01  1.01926346e+01\n",
      "  -4.04514160e+01  2.45599442e+01 -1.30224285e+01  3.32438927e+01\n",
      "  -1.33636293e+01  1.27566986e+01 -1.26924210e+01  4.28040981e+00\n",
      "   1.76412678e+01]\n",
      " [-8.68483162e+00  2.33859329e+01  6.52106476e+00 -3.37462082e+01\n",
      "  -2.51437721e+01 -8.95841408e+00 -3.68829231e+01 -5.82015085e+00\n",
      "   3.05632610e+01  1.29698441e+02  1.35351212e+02  1.10159111e+02\n",
      "   4.34762383e+01  2.79144878e+01  6.04314387e-01  1.54353971e+01\n",
      "  -3.62075729e+01  1.33250093e+01  6.45915146e+01  7.54061604e+00\n",
      "   3.84759140e+01]\n",
      " [-3.83361578e+00  1.15978308e+01 -2.67792530e+01  2.79171715e+01\n",
      "  -2.63193178e+00  3.14872432e+00  1.97576408e+01  5.86609316e+00\n",
      "   5.32242813e+01  1.63644302e+02  1.78085190e+02  1.43048080e+02\n",
      "   6.36137199e+01  1.60405331e+01  7.20648041e+01 -4.89503632e+01\n",
      "   1.45519047e+01 -4.92572365e+01 -1.52485294e+01  2.67263947e+01\n",
      "  -1.36901073e+01]\n",
      " [ 7.41846008e+01 -4.21247177e+01  4.80211792e+01 -3.48485489e+01\n",
      "  -4.34903431e+00 -2.74104524e+00  3.15640564e+01 -1.39639273e+01\n",
      "   5.21399765e+01  1.55756653e+02  1.40373611e+02  1.57972321e+02\n",
      "  -1.59816389e+01  7.76451492e+01  4.01669350e+01 -6.15672836e+01\n",
      "  -1.14453335e+01 -1.15527973e+01  9.62390423e+00 -1.52754335e+01\n",
      "   1.65318375e+01]\n",
      " [-1.46967974e+01 -3.27393723e+01  6.23110733e+01  3.42426224e+01\n",
      "   5.47313766e+01  8.88750553e+00  1.42912474e+01 -2.09835224e+01\n",
      "   4.69937439e+01  1.86502914e+01  6.38682861e+01  6.21565018e+01\n",
      "   2.25622330e+01  1.60592031e+00  2.75388432e+01 -5.62009668e+00\n",
      "   2.38001137e+01 -1.77145386e+01  2.03725719e+01 -1.70831382e+00\n",
      "   2.87281208e+01]\n",
      " [-1.24163361e+01 -6.14556837e+00  2.31825199e+01 -3.42350912e+00\n",
      "  -2.55604744e+01 -2.80980873e+00  2.47903233e+01 -2.66826153e+01\n",
      "   4.74517212e+01  5.38121567e+01  2.28960896e+01  3.45386505e+01\n",
      "   1.30911350e+01  2.21058846e+01  1.06111422e+01  1.27403088e+01\n",
      "   2.12328014e+01 -8.21537209e+00  1.28792191e+01  4.16107864e+01\n",
      "  -1.85757084e+01]\n",
      " [-2.34926357e+01 -1.91384182e+01  1.22503061e+01 -2.11259899e+01\n",
      "  -3.29233322e+01  5.50405145e-01  4.37574530e+00  2.61615810e+01\n",
      "  -4.52919922e+01  8.03320312e+01  1.02564898e+01 -2.06550255e+01\n",
      "   2.54901981e+01 -1.39221468e+01  6.86377096e+00 -4.82643652e+00\n",
      "   4.16152649e+01  4.85367470e+01  1.66621323e+01  6.21422615e+01\n",
      "  -6.31447105e+01]\n",
      " [ 2.38059921e+01 -4.04418297e+01 -1.11469975e+01 -7.68525302e-02\n",
      "  -2.28202057e+01  3.74357080e+00 -4.25718689e+01 -5.87905960e+01\n",
      "   1.29045162e+01  1.66947727e+01 -3.12773876e+01 -1.78941441e+01\n",
      "  -1.51198788e+01 -1.64251289e+01  2.83765945e+01 -2.72876129e+01\n",
      "  -2.28936653e+01 -2.56740665e+01  5.69102478e+01 -3.12627563e+01\n",
      "   1.00982523e+01]\n",
      " [-6.32760315e+01 -2.19689822e+00 -6.87643862e+00  3.73489227e+01\n",
      "   1.80905724e+00 -4.04516373e+01  4.55629921e+01 -3.31252098e+01\n",
      "   2.86708679e+01  3.02240334e+01  1.85028517e+00 -1.38789301e+01\n",
      "   4.49142075e+01  1.64523106e+01  3.74142170e+00  2.80263443e+01\n",
      "   1.20609694e+01  1.88304024e+01 -4.60818100e+00  1.16986513e+01\n",
      "   6.41751814e+00]\n",
      " [-9.13324738e+00  2.88044205e+01  8.94986248e+00 -2.08879147e+01\n",
      "  -4.18311882e+00  1.79219456e+01  1.24067755e+01  1.71433945e+01\n",
      "  -4.08838511e+00  3.16023426e+01 -4.79461575e+00  1.49141569e+01\n",
      "  -1.45638628e+01  7.44706650e+01  3.52587318e+01 -7.02488708e+00\n",
      "   2.73669662e+01  3.63243217e+01  4.26254749e+00 -9.24414444e+00\n",
      "   1.32609730e+01]\n",
      " [ 6.27991104e+00  1.15789008e+00 -4.55059290e+00  1.96174669e+00\n",
      "  -3.90213890e+01 -1.26630640e+01  3.54085464e+01  1.72019303e+00\n",
      "   9.00104618e+00 -2.79735050e+01 -1.56579790e+01  9.58055973e+00\n",
      "   1.63793373e+01 -1.05387840e+01  6.80886030e+00  1.98770638e+01\n",
      "   9.08424091e+00  2.72142963e+01 -8.13774967e+00  1.17876492e+01\n",
      "   2.74325333e+01]\n",
      " [-1.45553389e+01 -1.40318975e+01  2.64826488e+01  8.75790787e+00\n",
      "  -2.52995777e+01 -1.39292538e+00  5.83786678e+00  1.40670776e+01\n",
      "   6.56933823e+01  8.99225521e+00  2.13275871e+01 -3.92627945e+01\n",
      "   9.39785576e+00  2.00146294e+01  4.34046783e+01  2.73009133e+00\n",
      "  -2.67577052e+00  3.90485268e+01 -5.96983099e+00  3.96295285e+00\n",
      "   2.51619244e+01]\n",
      " [ 6.06267853e+01  1.55384932e+01  1.03049173e+01  3.74210320e+01\n",
      "   5.52605247e+00 -3.42574081e+01 -1.09634104e+01  9.47809505e+00\n",
      "  -1.01079311e+01  1.10137730e+01 -2.14642906e+01  6.18931437e+00\n",
      "   2.87769103e+00  1.36516428e+01 -1.66744957e+01  1.39294291e+01\n",
      "  -2.01764030e+01  1.23325348e+01  1.86179867e+01 -1.61960144e+01\n",
      "   3.28319664e+01]]\n",
      "[[ 9.12492466e+00 -1.80635655e+00 -3.55777669e+00  8.45110607e+00\n",
      "  -8.20275497e+00  1.42124712e+00  8.07919979e+00  7.52213001e+00\n",
      "  -1.64815617e+00 -2.08174825e-01 -7.40010881e+00 -2.01610160e+00\n",
      "   7.83045197e+00  7.14281368e+00  6.02974892e+00 -4.06565237e+00\n",
      "   1.06772888e+00  3.01803613e+00 -4.52978659e+00 -7.11575031e+00\n",
      "   1.95689468e+01]\n",
      " [ 3.85778189e+00  2.66041160e+00  8.90489960e+00 -5.51298714e+00\n",
      "  -1.43290749e+01 -1.87120795e+00 -2.10173249e+00  4.68325138e+00\n",
      "  -1.65567005e+00  7.82786751e+00  3.37668753e+00 -4.04175377e+00\n",
      "  -4.79691744e+00  8.66797924e-01  5.82081842e+00  5.59643793e+00\n",
      "  -3.17005157e+00  3.22280979e+00  4.92617941e+00 -6.96307993e+00\n",
      "  -4.80896521e+00]\n",
      " [-3.37544394e+00 -3.91190624e+00  3.05636191e+00  8.05930555e-01\n",
      "   3.12573838e+00 -1.88314974e+00  5.33816957e+00  7.43768632e-01\n",
      "   1.76615968e-01 -1.81048858e+00 -3.25686765e+00  6.47183847e+00\n",
      "   3.68697262e+00 -1.17737408e+01 -8.99012566e+00  7.05760527e+00\n",
      "  -1.85026610e+00 -6.17611837e+00  9.03082657e+00  9.64825249e+00\n",
      "  -6.85398293e+00]\n",
      " [ 3.34035301e+00 -2.51270342e+00  9.83358765e+00 -3.64826584e+00\n",
      "  -3.91663694e+00 -8.24068356e+00  1.32376995e+01  4.08037961e-01\n",
      "  -1.20846767e+01 -3.10357302e-01  5.71886396e+00  3.80848980e+00\n",
      "  -1.18935299e+00  3.90368670e-01  1.83139575e+00 -7.13549852e-01\n",
      "  -2.57099843e+00 -2.23850179e+00  1.34206009e+00 -6.24074411e+00\n",
      "   9.85223413e-01]\n",
      " [ 3.24379778e+00 -9.20838654e-01 -2.98350900e-01  4.25495243e+00\n",
      "   1.91053414e+00 -8.82256317e+00  5.36498117e+00  1.31388626e+01\n",
      "   7.94480562e+00 -1.64831662e+00 -6.00300074e-01 -1.01735938e+00\n",
      "   8.72657967e+00  3.90603095e-01  6.12859488e+00 -3.80672395e-01\n",
      "   3.85493070e-01  6.53815651e+00  8.60329533e+00  2.17121387e+00\n",
      "  -3.11141229e+00]\n",
      " [-3.55799055e+00  5.02797461e+00  3.23452425e+00  4.74408865e+00\n",
      "  -3.32491446e+00  3.78352857e+00 -8.09195137e+00  2.97097921e+00\n",
      "   7.28583527e+00  1.04604053e+01  1.04116087e+01  1.53844384e-02\n",
      "   1.56796646e+00 -5.58587122e+00  8.05121708e+00 -3.39672351e+00\n",
      "   5.02769423e+00  4.48932505e+00 -2.02317238e+00  5.14383459e+00\n",
      "   6.31363726e+00]\n",
      " [ 3.12560272e+00  1.42558060e+01  2.29747562e+01  1.22216523e+00\n",
      "  -4.08027697e+00  2.49877381e+00 -3.17592546e-02 -1.11575568e+00\n",
      "   1.40940418e+01 -1.02519619e+00 -1.11344814e+01 -6.67665195e+00\n",
      "  -2.07484760e+01  3.60613108e+00  7.14076376e+00  1.67597878e+00\n",
      "  -8.82239878e-01 -2.56349969e+00  2.95457006e+00  4.66003752e+00\n",
      "   4.42033625e+00]\n",
      " [ 2.01769733e+00  8.54024601e+00  1.24209833e+01  6.54508972e+00\n",
      "  -9.01150167e-01 -6.04876137e+00  1.43925095e+01 -1.30464211e+01\n",
      "  -3.65183473e-01 -1.06338036e+00  3.53742671e+00  1.74103889e+01\n",
      "  -8.84309769e+00 -4.17593575e+00 -1.49585509e+00  1.70894890e+01\n",
      "  -7.69906759e+00  1.17274165e-01  8.96985531e-01 -6.40705884e-01\n",
      "   9.40262794e+00]\n",
      " [ 1.89586372e+01 -4.28018093e+00  1.35082662e+00  7.04813337e+00\n",
      "   1.43235588e+01 -4.76963758e+00 -8.00137806e+00 -7.16245890e+00\n",
      "   3.24254537e+00  1.09057322e+01  2.04802055e+01  2.58574516e-01\n",
      "   6.68271720e-01  3.52716303e+00 -1.32479353e+01  4.68385667e-01\n",
      "  -1.61925066e+00 -6.30640078e+00  4.49104023e+00  1.66935480e+00\n",
      "  -1.25961132e+01]\n",
      " [ 2.92795277e+00  4.22783136e+00 -6.75410366e+00  8.47196162e-01\n",
      "   1.35187054e+01  1.32015743e+01  2.03176573e-01 -4.10050726e+00\n",
      "   3.07896996e+01  7.17956390e+01  1.93987900e+02  7.75562057e+01\n",
      "   3.09322929e+01  8.61659288e-01  8.33279228e+00 -3.78255725e+00\n",
      "   1.25066223e+01  1.30043828e+00  1.01759100e+01  1.29207668e+01\n",
      "   1.28826335e-01]\n",
      " [-7.16796207e+00  1.02304626e+00  1.45534062e+00  5.82077980e+00\n",
      "  -2.30096292e+00  1.17077708e+00  1.35764437e+01  5.69080877e+00\n",
      "   4.63002396e+01  1.31752121e+02  4.53900208e+02  2.81582306e+02\n",
      "   1.37166641e+02 -1.10466843e+01  8.71290302e+00 -2.18846869e+00\n",
      "  -3.04180646e+00  1.19026575e+01  1.36774788e+01 -6.34437704e+00\n",
      "   7.32039785e+00]\n",
      " [ 8.86310959e+00 -5.43108642e-01  4.37616539e+00 -4.02863598e+00\n",
      "   1.35859478e+00  1.08289070e-01  1.14477003e+00  1.64995480e+01\n",
      "   2.86958332e+01  6.86933670e+01  1.56300247e+02  6.17249947e+01\n",
      "   3.89654312e+01 -5.75247860e+00  1.41576350e+00 -5.34558296e+00\n",
      "  -2.63467169e+00  7.72422647e+00  4.01203108e+00 -1.20635557e+01\n",
      "  -3.57916379e+00]\n",
      " [ 6.27873182e+00  2.26961184e+00 -5.34692824e-01  7.81709576e+00\n",
      "   4.80998659e+00  8.63546073e-01 -2.25844908e+00  5.18754196e+00\n",
      "   9.88059902e+00  3.49723091e+01  3.69040337e+01  5.62143517e+01\n",
      "   1.30683212e+01  1.40531492e+00  7.55641413e+00 -7.40761042e-01\n",
      "   6.86153211e-03  2.05850458e+00 -3.69578838e+00 -6.42625093e+00\n",
      "  -3.21496177e+00]\n",
      " [ 6.41883993e+00 -1.46720524e+01  3.48054141e-01  4.78283072e+00\n",
      "  -7.73047066e+00 -6.84942436e+00  4.29397202e+00  5.29815912e+00\n",
      "   1.72879581e+01  1.37077446e+01  3.95534992e+00  3.60404229e+00\n",
      "   3.44552779e+00  4.40768242e+00 -4.29312038e+00  2.28687429e+00\n",
      "  -2.03411031e+00 -2.01760793e+00  4.10191983e-01 -4.80481291e+00\n",
      "   5.94469547e+00]\n",
      " [-1.29069471e+01 -4.13440943e+00  1.59136522e+00 -1.21025057e+01\n",
      "  -1.59978380e+01  1.37359893e+00 -2.61833817e-01 -4.80276155e+00\n",
      "   7.98981190e+00  1.30513821e+01  7.57009268e+00  9.63496399e+00\n",
      "   4.81399250e+00 -3.43421793e+00  4.11418438e+00 -2.57767272e+00\n",
      "   3.19428515e+00  3.46741128e+00  1.33980856e+01  6.84464598e+00\n",
      "  -4.07636851e-01]\n",
      " [ 1.18793230e+01 -1.15321845e-01 -6.76342297e+00  2.54489470e+00\n",
      "   5.28226662e+00  1.42926760e+01  4.59256220e+00  6.33380508e+00\n",
      "  -3.97284198e+00 -6.24551153e+00  9.18271542e+00  6.26154995e+00\n",
      "   2.62632036e+00 -2.40364361e+00  2.38911676e+00 -5.20301867e+00\n",
      "   8.58708477e+00 -4.11690807e+00 -5.85581493e+00  4.74194956e+00\n",
      "  -1.72432184e-01]\n",
      " [-9.55360699e+00  4.48413229e+00  2.62339044e+00 -3.25220370e+00\n",
      "   9.53346908e-01  9.73827457e+00 -1.47136521e+00  5.58550072e+00\n",
      "  -8.45526993e-01  7.45150328e+00 -5.92322397e+00 -3.98162103e+00\n",
      "  -1.06318407e+01 -1.02035885e+01  3.97074294e+00  7.88296986e+00\n",
      "   4.46791410e+00  2.26581836e+00  1.69404256e+00 -4.35019159e+00\n",
      "   5.61918831e+00]\n",
      " [-1.43386354e+01  4.66444778e+00  1.72376955e+00 -8.39445591e+00\n",
      "  -9.81547236e-01  9.73566055e+00  7.45602655e+00  4.52622604e+00\n",
      "   2.36544228e+00  3.00104690e+00 -3.64196205e+00  2.63870621e+00\n",
      "   1.14321983e+00 -1.24734402e+00  6.44853306e+00  3.03333879e+00\n",
      "   1.27736974e+00  1.28207407e+01  9.19241238e+00 -2.35912371e+00\n",
      "  -3.98025465e+00]\n",
      " [-5.33300686e+00  1.26179276e+01 -1.70294714e+00  2.64402300e-01\n",
      "   3.63596702e+00 -5.89605713e+00  2.83570933e+00  5.09351349e+00\n",
      "   1.82079840e+00 -6.65079737e+00 -1.66837895e+00  2.99158072e+00\n",
      "  -1.52378523e+00 -7.27972090e-01  2.44100094e+00 -6.94868946e+00\n",
      "  -2.83278680e+00  1.91300070e+00  2.85601425e+00  3.80274057e+00\n",
      "   1.52418780e+00]\n",
      " [-8.21422577e+00  1.54494452e+00 -9.28651929e-01 -5.71085632e-01\n",
      "   3.08514190e+00 -5.09621906e+00 -1.38019600e+01  5.70669472e-01\n",
      "  -3.62675929e+00  7.96165609e+00  1.85827720e+00 -3.94327736e+00\n",
      "   5.41604471e+00 -1.92163730e+00  2.53506207e+00 -1.16154795e+01\n",
      "  -4.40164280e+00  5.90580821e-01  8.74968529e-01 -1.75908566e+00\n",
      "   6.20629406e+00]\n",
      " [ 4.92475748e+00 -6.27795935e+00  3.50363684e+00  5.36487198e+00\n",
      "   6.71724319e+00 -1.90053546e+00 -1.84359512e+01  1.81481338e+00\n",
      "  -1.88444126e+00 -3.29010630e+00  8.81380653e+00 -8.20336819e+00\n",
      "   3.10233045e+00 -4.01117039e+00  1.18159294e+00  1.26416178e+01\n",
      "  -9.00791168e+00  1.08687651e+00  5.01982069e+00 -9.05461788e+00\n",
      "   1.82435596e+00]]\n",
      "[[ 7.36231613e+00  1.11586075e+01 -1.23437750e+00  1.68016791e+00\n",
      "   7.10510874e+00  5.72426319e-01 -3.82047582e+00  7.15942192e+00\n",
      "   1.22162628e+01 -5.37190008e+00 -7.99064875e+00 -1.31963089e-01\n",
      "  -1.80998478e+01  2.69680172e-01  5.99451113e+00 -1.18810110e+01\n",
      "  -5.94160700e+00  6.42272615e+00  9.99727917e+00  1.56732187e+01\n",
      "  -2.97393346e+00]\n",
      " [ 4.01056433e+00  7.44589424e+00  7.01544666e+00 -2.11951947e+00\n",
      "  -1.65097976e+00 -2.83647108e+00 -5.59383297e+00 -7.81044340e+00\n",
      "  -3.80187964e+00  1.33453827e+01  9.45139122e+00 -1.70272720e+00\n",
      "  -2.63829112e+00 -7.44606256e+00  2.92297339e+00 -1.64736807e+00\n",
      "  -6.26944494e+00 -1.37961006e+00 -4.35438442e+00  9.67219162e+00\n",
      "  -1.01049404e+01]\n",
      " [ 4.72148848e+00 -1.76070929e+00 -5.13064623e+00 -6.58148861e+00\n",
      "  -4.80843973e+00  8.25155067e+00  7.04145622e+00 -8.83916855e+00\n",
      "  -2.17250156e+00 -5.49053097e+00 -5.24969482e+00  3.28632617e+00\n",
      "   7.44574785e+00 -5.11413002e+00  2.97681642e+00  7.04357862e+00\n",
      "  -1.14891024e+01 -5.39762545e+00 -1.29338634e+00 -2.07125711e+00\n",
      "  -4.38164616e+00]\n",
      " [-1.77345884e+00  6.85399723e+00 -2.29673719e+00  1.48397791e+00\n",
      "   1.52916145e+00  1.01158695e+01  1.25339258e+00  3.87727290e-01\n",
      "   7.41018391e+00 -3.54830742e+00 -4.01462793e+00 -4.94773120e-01\n",
      "   1.77675831e+00  3.43875194e+00 -6.63427925e+00  9.66764271e-01\n",
      "   1.02878275e+01  3.92697263e+00 -4.30116320e+00 -1.68251276e+00\n",
      "  -9.39369774e+00]\n",
      " [-1.26366158e+01  5.76328516e+00  1.69682336e+00 -1.79522610e+00\n",
      "   9.74605942e+00 -1.19367647e+00 -5.76622581e+00  1.07577972e+01\n",
      "   5.13317013e+00 -4.68815708e+00  1.25119352e+00  9.26678240e-01\n",
      "   5.13169527e+00  1.12328899e+00  2.25511551e+00  4.20278358e+00\n",
      "   7.82338095e+00  6.79283667e+00  1.92206860e+00 -7.66483307e+00\n",
      "  -1.43707466e+01]\n",
      " [ 1.38120019e+00  1.26577711e+00  4.39283657e+00  2.24881482e+00\n",
      "  -5.06953049e+00 -2.70760274e+00 -3.66616869e+00  1.77170074e+00\n",
      "   1.20443249e+01  1.30265751e+01  1.64339619e+01  4.15325403e+00\n",
      "  -7.96128750e-01 -2.39590526e+00  1.54609108e+00  1.27867069e+01\n",
      "   5.00209188e+00 -4.49285239e-01  5.64660311e-01  1.18312035e+01\n",
      "   3.33428431e+00]\n",
      " [ 8.52059364e+00  9.13252163e+00 -3.87824798e+00 -1.05219960e+00\n",
      "  -8.55297685e-01  6.12580729e+00 -2.95772004e+00  1.94499597e-01\n",
      "   5.01301003e+00 -7.99150181e+00 -2.15233555e+01 -1.50755825e+01\n",
      "   7.08554327e-01 -2.97246218e+00 -1.22942934e+01 -4.96471786e+00\n",
      "  -2.75296354e+00 -9.46606159e+00 -1.64110219e+00  1.02000608e+01\n",
      "  -1.14227486e+01]\n",
      " [ 1.59254980e+00 -3.72218561e+00  2.57848883e+00  7.24339771e+00\n",
      "  -8.73085117e+00  1.39390888e+01 -2.68192101e+00 -7.21062517e+00\n",
      "  -8.71886921e+00  3.96218538e+00  5.31142998e+01  3.16756878e+01\n",
      "  -2.71439171e+00 -7.37120247e+00  1.04058847e+01 -1.68362103e+01\n",
      "   1.65554676e+01  3.27231145e+00 -5.65087366e+00 -5.49980783e+00\n",
      "  -3.27278137e+00]\n",
      " [ 7.26197290e+00 -3.15310264e+00  6.93413401e+00  6.30098248e+00\n",
      "  -6.95694208e+00  4.36019993e+00  3.81791234e+00  2.96598816e+00\n",
      "  -1.07087600e+00 -2.67669258e+01 -1.07928116e+02 -5.53723068e+01\n",
      "   9.92528260e-01 -7.12941456e+00  6.64637327e+00 -2.68913913e+00\n",
      "   3.95431852e+00  1.04750786e+01 -1.79408956e+00  4.13250256e+00\n",
      "   1.46315489e+01]\n",
      " [-5.68129349e+00 -5.03878307e+00  6.71294737e+00 -4.77409887e+00\n",
      "   6.17733097e+00 -2.99491644e+00  1.65618114e+01  4.43659306e+00\n",
      "   2.78768559e+01  8.81958466e+01  2.41742142e+02  8.78752899e+01\n",
      "  -1.43562860e+01  1.40599394e+01  2.25221813e-01  9.76644135e+00\n",
      "  -4.09117311e-01  2.50443196e+00  1.89103532e+00 -4.20162106e+00\n",
      "   1.19083738e+00]\n",
      " [-4.73193407e+00 -8.35149384e+00  5.48379850e+00 -2.89911175e+00\n",
      "   4.52254200e+00 -4.53198147e+00  1.51323948e+01 -2.84986401e+01\n",
      "   6.56156158e+01  1.20954765e+02  3.66770752e+02  2.94793152e+02\n",
      "   2.93520570e+00  3.38154526e+01 -1.30714035e+00 -3.13206077e+00\n",
      "  -3.12928200e+00  3.51738381e+00  4.43918562e+00  4.67507362e+00\n",
      "  -1.31356802e+01]\n",
      " [ 2.86488843e+00 -1.46695006e+00  9.79982853e+00 -7.34960699e+00\n",
      "   3.16090012e+00  5.36894274e+00  2.66764426e+00  2.41386318e+00\n",
      "   4.79945374e+01  1.11204834e+02  1.68865067e+02  8.23985062e+01\n",
      "   3.71218371e+00  1.10007935e+01 -8.45980287e-01  6.28908682e+00\n",
      "   1.23594806e-01  1.28714168e+00 -1.98988652e+00 -5.91773415e+00\n",
      "   6.08243465e+00]\n",
      " [-7.76946592e+00 -8.45072651e+00  1.29747498e+00  4.63389063e+00\n",
      "   5.03595114e+00 -1.26447010e+00  5.28319955e-01  2.14175057e+00\n",
      "   4.36425438e+01  5.17186279e+01  7.59901733e+01  4.55691490e+01\n",
      "   1.41813869e+01  6.28748894e+00  1.36421394e+01 -9.24044371e-01\n",
      "   6.61376524e+00  3.80174947e+00  5.07207251e+00 -1.74838028e+01\n",
      "   1.75780702e+00]\n",
      " [ 2.01704431e+00 -4.62326813e+00 -2.45376110e+00  1.68459010e+00\n",
      "   1.25913601e+01 -4.55803680e+00 -8.11764777e-01  6.58455753e+00\n",
      "   2.44894218e+01  1.10593567e+01 -9.91655767e-01 -2.67625594e+00\n",
      "   1.01611671e+01  1.30140553e+01 -6.59963655e+00 -7.78002918e-01\n",
      "   3.46859169e+00  4.91695225e-01 -4.00895119e+00  4.65737820e+00\n",
      "   1.09909058e+01]\n",
      " [-3.75905323e+00  3.51510569e-03  3.01026058e+00 -6.21842432e+00\n",
      "  -4.80377817e+00 -1.03712530e+01  1.45420468e+00 -6.72437429e+00\n",
      "   9.92132723e-02  4.60410565e-02  2.15289993e+01  4.05969095e+00\n",
      "  -4.55985689e+00  7.95809889e+00 -2.47689128e+00  9.67124176e+00\n",
      "   2.35257101e+00  5.29444504e+00 -8.38755190e-01  2.47753191e+00\n",
      "   1.47777538e+01]\n",
      " [ 1.13460665e+01 -1.45061851e+00 -2.08940911e+00  3.16210437e+00\n",
      "   7.22857761e+00  4.10626173e+00  1.82475052e+01  1.81496792e+01\n",
      "   2.23172951e+00 -1.15076530e+00  2.37667346e+00  8.56366444e+00\n",
      "   7.19366789e-01  1.83117867e+01  8.08466053e+00  8.60611820e+00\n",
      "   2.62864685e+00 -1.47025287e+00  6.33912992e+00 -5.04655242e-01\n",
      "   4.25792456e+00]\n",
      " [ 6.17143917e+00 -6.69346333e+00  4.12051868e+00 -3.00993681e+00\n",
      "   1.47408199e+01 -2.65010238e+00 -7.22136796e-01  6.25456572e+00\n",
      "   2.45706558e+00  9.98807049e+00  1.09033518e+01  4.85483599e+00\n",
      "  -7.37024128e-01  1.82772808e+01  8.49839878e+00  7.37140369e+00\n",
      "  -6.58509016e+00 -7.29598188e+00 -7.93036222e-02  2.33771944e+00\n",
      "   3.34363055e+00]\n",
      " [ 4.01094580e+00  4.59108591e+00 -8.04681480e-01 -9.50112629e+00\n",
      "   1.74844384e-01 -2.30388427e+00 -3.65674210e+00 -8.13923359e+00\n",
      "   2.60103369e+00  1.46109905e+01 -7.56470585e+00 -5.47084379e+00\n",
      "  -6.11330032e+00  7.94277763e+00  6.62201023e+00  1.54996908e+00\n",
      "  -6.20997620e+00 -1.68410230e+00  5.02450991e+00  7.51493502e+00\n",
      "  -5.49895950e-02]\n",
      " [ 8.38151836e+00  8.55543804e+00  7.74798810e-01  1.34043431e+00\n",
      "   8.26419735e+00  6.14016438e+00  2.88383913e+00  6.57324314e+00\n",
      "   4.96493673e+00  9.22372437e+00 -6.14036703e+00 -8.09111214e+00\n",
      "   1.00317621e+01 -1.13399668e+01  2.26071620e+00 -1.09158182e+01\n",
      "   3.37985468e+00  6.54771328e+00  1.35748596e+01  4.72300625e+00\n",
      "  -6.51840925e+00]\n",
      " [-6.47439861e+00  2.06933475e+00  4.51496029e+00  4.83307648e+00\n",
      "   5.25486374e+00 -4.37891531e+00 -5.24042463e+00 -2.33784890e+00\n",
      "   3.72005558e+00  8.77711391e+00  3.85386682e+00  4.78796530e+00\n",
      "  -9.19070184e-01  4.31162405e+00 -1.28275652e+01  6.35904503e+00\n",
      "   2.57462907e+00 -9.66030598e+00  4.84785700e+00  5.32128334e+00\n",
      "   1.25910902e+01]\n",
      " [-8.93605614e+00 -2.60513258e+00  2.12653589e+00 -1.91655636e+00\n",
      "  -1.44271195e+00 -1.34328699e+01 -1.64416122e+01  1.07116556e+00\n",
      "   2.94879985e+00 -6.80937409e-01 -3.46437693e+00  5.24108315e+00\n",
      "  -7.71633577e+00  2.72881937e+00 -2.67240810e+00  2.16293859e+00\n",
      "  -1.59624851e+00 -1.42191133e+01  1.34986663e+00  6.93376601e-01\n",
      "   3.35097551e+00]]\n",
      "[[-7.47354984e+00  1.51751690e+01 -2.31213164e+00  7.65830040e-01\n",
      "   1.35456009e+01  1.46184387e+01 -9.45761395e+00  7.40843117e-02\n",
      "   1.68481731e+00  9.30711079e+00 -3.07769370e+00 -3.55686450e+00\n",
      "   8.12663460e+00  1.82552414e+01  6.41048527e+00 -1.27132359e+01\n",
      "  -2.65512180e+00  5.42765379e-01  3.53765035e+00  1.12768662e+00\n",
      "  -1.09353662e+00]\n",
      " [ 1.78669815e+01 -6.81220198e+00  5.38230371e+00  2.94364154e-01\n",
      "  -1.09895678e+01  2.34927025e+01 -6.15745366e-01  1.01493912e+01\n",
      "   1.55018377e+00  1.85398312e+01 -5.78986406e+00  1.83456669e+01\n",
      "   1.16475935e+01 -5.43705606e+00  2.35865040e+01  1.23900950e+00\n",
      "   8.61821461e+00 -6.78898954e+00 -4.55801100e-01 -7.30258131e+00\n",
      "  -7.14297628e+00]\n",
      " [-6.23877192e+00 -1.91520441e+00 -1.36012774e+01  8.59004784e+00\n",
      "   1.19801683e+01 -7.50341988e+00 -4.67927599e+00 -7.14834642e+00\n",
      "   3.94201541e+00 -1.50959721e+01  9.59681892e+00 -9.71364975e-01\n",
      "   4.69787455e+00 -1.07451334e+01  1.92837257e+01  2.38955140e+00\n",
      "  -1.19294739e+01 -2.51218605e+00 -7.24718332e+00  6.29936647e+00\n",
      "   7.53705978e+00]\n",
      " [ 1.65271688e+00 -3.55041504e+00 -3.08925366e+00  4.90154362e+00\n",
      "  -1.10888033e+01 -1.51210670e+01  1.33348236e+01 -1.34249859e+01\n",
      "   4.20222616e+00 -9.24303436e+00  9.05550289e+00  1.90109932e+00\n",
      "   5.79037905e+00 -1.28481305e+00  4.19739604e-01  1.25978508e+01\n",
      "   3.52722168e+00 -3.09736848e+00 -3.79043961e+00 -1.23251510e+00\n",
      "   3.82778883e+00]\n",
      " [ 8.54186344e+00  7.46125078e+00  4.69578505e+00  6.54944658e+00\n",
      "   4.71689415e+00 -2.07093792e+01 -1.34583178e+01  1.13679361e+01\n",
      "  -7.24347651e-01 -8.72904396e+00 -2.83165035e+01  2.24193788e+00\n",
      "   2.90359426e+00 -6.83707285e+00  4.41666937e+00  9.56195736e+00\n",
      "  -1.12535496e+01  9.75983739e-01  9.44832611e+00 -7.55065441e+00\n",
      "  -2.01154172e-01]\n",
      " [ 3.35541463e+00  1.01863890e+01  9.43391228e+00  1.25089610e+00\n",
      "   6.93339062e+00  1.69340191e+01  7.39465332e+00 -4.52248240e+00\n",
      "   2.28594542e+00  2.26920414e+00  8.55368042e+00 -4.93144035e+00\n",
      "  -1.78494186e+01 -2.36621284e+00  4.42520523e+00 -1.33430672e+01\n",
      "  -3.22306824e+00  3.11044073e+00  4.28985786e+00  1.83726521e+01\n",
      "   8.45018291e+00]\n",
      " [ 3.56282187e+00 -1.22367897e+01  1.20958776e+01 -3.69159722e+00\n",
      "  -4.48260307e+00  6.59323025e+00  1.71452236e+01  2.14387856e+01\n",
      "   1.98572273e+01  1.33530140e+01 -1.09348793e+01 -6.33348560e+00\n",
      "   8.10102654e+00  1.77408323e-01  2.74369144e+00  1.06384478e+01\n",
      "   1.89783611e+01 -2.60781622e+00  2.05776501e+01  2.04767799e+00\n",
      "  -1.42536554e+01]\n",
      " [-9.96097088e+00  4.40675735e-01  1.52126923e+01  3.12316298e+00\n",
      "  -1.10527649e+01  4.65971422e+00 -3.14842629e+00 -1.90402756e+01\n",
      "  -8.06313157e-01 -6.07083368e+00  1.17679720e+01  4.78234911e+00\n",
      "  -1.94631596e+01 -4.29911280e+00  1.58896637e+01 -7.66808033e+00\n",
      "  -1.05496864e+01 -1.03165674e+01 -9.25317478e+00  8.04909766e-01\n",
      "   6.96291399e+00]\n",
      " [ 1.24625816e+01 -1.03788376e+01 -3.23171282e+00  2.28455567e+00\n",
      "   7.34597921e+00 -5.23943377e+00  7.11853325e-01  4.93244886e+00\n",
      "   2.27438946e+01 -8.81432533e+00 -5.24561043e+01 -1.60559502e+01\n",
      "  -4.00396633e+00  5.08152151e+00  1.45211544e+01  4.60626221e+00\n",
      "   3.44592184e-01 -5.43908834e-01 -4.67577028e+00 -6.12132740e+00\n",
      "  -2.11493444e+00]\n",
      " [ 2.08162079e+01 -1.59945278e+01  4.00062847e+00 -5.61806440e+00\n",
      "   3.20489383e+00  5.26271296e+00  9.64641762e+00  2.59651432e+01\n",
      "   4.16372070e+01  5.99899216e+01  1.81402710e+02  5.27504730e+01\n",
      "   1.79492435e+01 -4.73036051e+00  1.55035515e+01  2.12012844e+01\n",
      "  -1.32959690e+01 -4.59684610e+00  7.14684343e+00 -9.42941284e+00\n",
      "  -1.15340738e+01]\n",
      " [ 2.42882586e+00 -2.19112053e+01 -2.85831690e+00 -4.49591011e-01\n",
      "   1.64857388e+01  1.31678905e+01  2.09873695e+01  7.66913080e+00\n",
      "   7.54807358e+01  1.35643921e+02  3.11819855e+02  1.74706680e+02\n",
      "   4.78190613e+00  7.48404694e+00 -2.16755772e+01  1.63072910e+01\n",
      "   5.44125509e+00 -4.13936949e+00 -3.28566647e+00 -6.42611504e+00\n",
      "  -2.30146427e+01]\n",
      " [-3.12012982e+00  1.82492626e+00  2.35812402e+00  3.46716523e+00\n",
      "   8.25117302e+00 -4.95448875e+00 -4.57199669e+00  3.74618607e+01\n",
      "   2.62601089e+01  4.11892853e+01  1.10056870e+02  5.07079544e+01\n",
      "   5.10382233e+01 -2.90138454e+01  3.39770355e+01  1.09959011e+01\n",
      "  -9.81341600e-01 -3.10316825e+00 -8.68050957e+00  1.76861060e+00\n",
      "   1.61670551e+01]\n",
      " [ 2.58074689e+00 -1.37604713e+01 -4.61700583e+00 -8.04994869e+00\n",
      "   6.52440071e+00  8.85873222e+00 -1.93683605e+01  1.69378319e+01\n",
      "   3.86095276e+01  2.05054131e+01  1.07964645e+02  6.19480629e+01\n",
      "   1.36457467e+00 -1.55102282e+01  3.64042511e+01  1.52582502e+01\n",
      "   7.77386308e-01 -7.50628889e-01 -2.30441928e+00  6.07600403e+00\n",
      "  -3.91490126e+00]\n",
      " [-2.26479912e+00 -1.82731857e+01  1.55939188e+01 -4.36049700e+00\n",
      "  -3.71717930e+00  1.09791431e+01  6.19351292e+00  3.41682167e+01\n",
      "   1.23698635e+01  3.57182846e+01  2.29436951e+01  9.90433311e+00\n",
      "   1.85063133e+01  1.48874207e+01 -1.41112738e+01  2.58911133e+00\n",
      "   1.06857290e+01 -3.46734136e-01 -4.11837196e+00  5.13583946e+00\n",
      "  -3.33840537e+00]\n",
      " [-2.88703370e+00  1.53532562e+01  4.96242189e+00 -1.40459991e+00\n",
      "  -1.68577843e+01 -1.53076181e+01 -2.81194401e+00 -1.24173832e+01\n",
      "   1.08291893e+01  3.97477651e+00  2.92572212e+01  6.97405243e+00\n",
      "  -1.15545740e+01 -5.60480261e+00 -3.60026777e-01  3.43114018e+00\n",
      "  -3.03850269e+00 -3.83410501e+00  6.71428394e+00 -8.12772655e+00\n",
      "   8.67868233e+00]\n",
      " [ 1.55973835e+01  8.91186619e+00 -7.47707987e+00 -2.68481684e+00\n",
      "  -4.06536055e+00  5.22655249e+00  2.96570396e+00  1.31750994e+01\n",
      "  -6.43164339e-03  5.95543051e+00  1.04009314e+01  6.97751427e+00\n",
      "   1.02206335e+01  3.60864029e+01 -5.18938446e+00  1.80197239e+01\n",
      "  -3.86714965e-01 -6.41557312e+00  3.16407418e+00 -4.57316190e-01\n",
      "   1.04777222e+01]\n",
      " [ 9.37216473e+00  2.43127084e+00  9.23669338e+00 -9.66406345e+00\n",
      "  -4.14129686e+00  2.34505444e+01  1.82253742e+01  4.80853319e+00\n",
      "  -1.39146721e+00  2.64503670e+01  6.14521122e+00  7.20820904e-01\n",
      "   2.14258361e+00 -5.57565498e+00  2.32269859e+00 -7.80047512e+00\n",
      "   3.61678672e+00 -1.27838402e+01  1.46665394e+00  6.49844885e+00\n",
      "  -1.61461189e-01]\n",
      " [-1.52576809e+01  3.72890383e-01  1.65096684e+01  4.63618279e+00\n",
      "  -4.72851324e+00  1.74225521e+01 -7.05163032e-02 -4.15751505e+00\n",
      "  -3.66155833e-01  3.90143633e+00  3.32806611e+00  1.15090351e+01\n",
      "   1.13835211e+01  1.34487305e+01  1.31885633e+01 -2.08862381e+01\n",
      "  -1.07890129e+01 -9.63268566e+00 -8.67439747e+00 -2.33058238e+00\n",
      "   9.01105690e+00]\n",
      " [ 2.58326364e+00 -5.89075041e+00 -1.20354681e+01 -1.49243176e+00\n",
      "   1.76902943e+01  2.65850735e+00 -1.55835810e+01 -4.84993935e+00\n",
      "  -3.90775681e+00 -1.77423420e+01  1.22876477e+00 -3.07043672e-01\n",
      "   1.14073048e+01 -1.06226406e+01 -2.19265532e+00 -2.89235001e+01\n",
      "   3.15463948e+00  2.57027340e+00  1.29469671e+01 -3.41371012e+00\n",
      "  -4.83942461e+00]\n",
      " [ 3.68209052e+00  1.23918505e+01 -1.11069546e+01 -5.14401436e+00\n",
      "  -5.04163456e+00 -1.25409689e+01 -2.18514690e+01  5.37664127e+00\n",
      "  -7.71941900e+00 -2.47391629e+00 -6.81040287e+00 -2.21392155e+00\n",
      "   1.08371935e+01 -3.71891856e+00  1.03621387e+01  8.28081894e+00\n",
      "  -7.33272934e+00 -9.16610336e+00 -5.34440231e+00  1.37603731e+01\n",
      "   1.07531786e+01]\n",
      " [-4.68312550e+00  3.41385317e+00  7.61122847e+00 -2.19855061e+01\n",
      "   1.20704355e+01 -8.62283802e+00 -7.99615717e+00 -2.68824148e+00\n",
      "  -1.28262606e+01  8.15577793e+00 -1.38844788e+00  7.35247374e+00\n",
      "  -1.91280422e+01  9.56192493e+00  1.97087705e+00 -1.31121416e+01\n",
      "   4.86019945e+00  6.35685205e+00 -6.90309381e+00 -2.20381522e+00\n",
      "   1.99491615e+01]]\n"
     ]
    }
   ],
   "source": [
    "for i in range(10):\n",
    "    img = reals_croped_padded[i,...]\n",
    "\n",
    "    print(img[:,:,j])"
   ]
  },
  {
   "cell_type": "code",
   "execution_count": null,
   "metadata": {},
   "outputs": [],
   "source": []
  }
 ],
 "metadata": {
  "kernelspec": {
   "display_name": "Python 3",
   "language": "python",
   "name": "python3"
  },
  "language_info": {
   "codemirror_mode": {
    "name": "ipython",
    "version": 3
   },
   "file_extension": ".py",
   "mimetype": "text/x-python",
   "name": "python",
   "nbconvert_exporter": "python",
   "pygments_lexer": "ipython3",
   "version": "3.5.2"
  }
 },
 "nbformat": 4,
 "nbformat_minor": 2
}
