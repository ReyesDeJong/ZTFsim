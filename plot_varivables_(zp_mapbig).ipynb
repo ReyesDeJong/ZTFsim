{
 "cells": [
  {
   "cell_type": "code",
   "execution_count": 1,
   "metadata": {},
   "outputs": [],
   "source": [
    "#python 2 and 3 comptibility\n",
    "from __future__ import absolute_import\n",
    "from __future__ import division\n",
    "from __future__ import print_function\n",
    "import json\n",
    "import io\n",
    "import gzip\n",
    "import base64\n",
    "from astropy.io import fits\n",
    "import matplotlib.pylab as plt\n",
    "import pickle as pkl\n",
    "import numpy as np\n",
    "%matplotlib inline\n",
    "\n",
    "data_path = '../AlerceDHtest/datasets/ZTF'"
   ]
  },
  {
   "cell_type": "code",
   "execution_count": 2,
   "metadata": {},
   "outputs": [],
   "source": [
    "path = data_path+'/broker_reals.json'\n",
    "with open(path, \"r\") as f:\n",
    "        dataset = json.load(f)  "
   ]
  },
  {
   "cell_type": "code",
   "execution_count": 3,
   "metadata": {},
   "outputs": [
    {
     "data": {
      "text/plain": [
       "dict_keys(['_id', 'objectId', 'candid', 'candidate', 'prv_candidates', 'cutoutScience', 'cutoutTemplate', 'cutoutDifference'])"
      ]
     },
     "execution_count": 3,
     "metadata": {},
     "output_type": "execute_result"
    }
   ],
   "source": [
    "dataset[\"query_result\"][0].keys()"
   ]
  },
  {
   "cell_type": "code",
   "execution_count": null,
   "metadata": {},
   "outputs": [],
   "source": [
    "def createCircularMask(h, w, center=None, radius=None):\n",
    "\n",
    "    if center is None: # use the middle of the image\n",
    "        center = [int(w/2), int(h/2)]\n",
    "    if radius is None: # use the smallest distance between the center and image walls\n",
    "        radius = min(center[0], center[1], w-center[0], h-center[1])\n",
    "\n",
    "    Y, X = np.ogrid[:h, :w]\n",
    "    dist_from_center = np.sqrt((X - center[0])**2 + (Y-center[1])**2)\n",
    "\n",
    "    mask = dist_from_center <= radius\n",
    "    return mask\n",
    "\n",
    "# zero point as in ZTF zp'= zp +2.5*log10(Texp)\n",
    "# and clip between 23-28 as in ZTF paper https://arxiv.org/abs/1902.01872\n",
    "def get_zero_point(stamp, aperture_mag, exp_time=30.0):\n",
    "    stamp_shape = stamp.shape\n",
    "    mask = createCircularMask(stamp_shape[0], stamp_shape[1], center=np.array(stamp_shape)/2, radius=8)\n",
    "    extracted_mask = np.multiply(mask, stamp)\n",
    "    count_photometry = np.nansum(extracted_mask)\n",
    "    #beacuse it is diff image\n",
    "    #if count_photometry < 0:\n",
    "    #    return [], [], np.nan\n",
    "    residual_image = stamp - extracted_mask\n",
    "    zero_point = aperture_mag + 2.5*np.log10(np.clip(count_photometry, a_min=1e-4, a_max=None))#/exp_time)\n",
    "    zero_point = np.clip(zero_point, a_min=23, a_max=28)\n",
    "    return zero_point, residual_image, count_photometry"
   ]
  },
  {
   "cell_type": "code",
   "execution_count": null,
   "metadata": {
    "scrolled": true
   },
   "outputs": [],
   "source": [
    "KEY_TO_GET = 'zero_point'#'magapbig'#\n",
    "data_dict = {\"g\":{}, \"r\":{}, \"i\":{}}\n",
    "filters_ls = list(data_dict.keys())\n",
    "for alert in dataset[\"query_result\"]:\n",
    "    #dict_in_stamp = {'science_stamp':None, 'filter': None, 'fwhm': None, 'mjd': None, 'field': None, 'object_id': None}\n",
    "    stamp = alert['cutoutDifference']['stampData']\n",
    "    stamp = base64.b64decode(stamp[\"$binary\"].encode())\n",
    "    with gzip.open(io.BytesIO(stamp), 'rb') as f:\n",
    "        with fits.open(io.BytesIO(f.read())) as hdul:\n",
    "            img = hdul[0].data\n",
    "    #dict_in_stamp['science_stamp'] = img\n",
    "    #zero point\n",
    "    aperture_mag = alert[\"candidate\"][\"magap\"]\n",
    "    #dict_in_stamp[\"magap\"] = aperture_mag\n",
    "    zero_point, res, c = get_zero_point(img, aperture_mag)\n",
    "    #dict_in_stamp['zero_point'] = 24.5#zero_point\n",
    "    \n",
    "    variable_to_retrieve = zero_point#alert[\"candidate\"][KEY_TO_GET]#\n",
    "    fid = alert[\"candidate\"][\"fid\"]\n",
    "    \n",
    "    if KEY_TO_GET in data_dict[filters_ls[fid-1]].keys():\n",
    "        data_dict[filters_ls[fid-1]][KEY_TO_GET].append(variable_to_retrieve)\n",
    "    else:\n",
    "        data_dict[filters_ls[fid-1]][KEY_TO_GET] = [variable_to_retrieve,]"
   ]
  },
  {
   "cell_type": "code",
   "execution_count": null,
   "metadata": {},
   "outputs": [],
   "source": [
    "#all data to array\n",
    "#all_data_array = []\n",
    "#for channel in data_dict.keys():\n",
    "#    try:\n",
    "#        all_data_array.append(data_dict[channel][KEY_TO_GET])\n",
    "#    except:\n",
    "#        pass"
   ]
  },
  {
   "cell_type": "code",
   "execution_count": null,
   "metadata": {},
   "outputs": [],
   "source": [
    "plt.figure(figsize=(12,7))\n",
    "for i, channel in enumerate(filters_ls):\n",
    "    try:\n",
    "        x = np.array(data_dict[channel][KEY_TO_GET])\n",
    "        plt.hist(x, label=channel, alpha=0.5, bins = np.linspace(23,28,100))#, density=True)\n",
    "        plt.axvline(x.mean(), color='k', linestyle='dashed', linewidth=1)\n",
    "        _, max_ = plt.ylim()\n",
    "        plt.text(x.mean() + 1e-2, \n",
    "         (max_ - max_/10)-i*1e2, \n",
    "         'Mean: {:.2f}'.format(x.mean()))\n",
    "    except:\n",
    "        pass\n",
    "plt.xlabel(KEY_TO_GET)\n",
    "#plt.xlim([25,27.5])\n",
    "plt.legend()\n",
    "plt.show()\n",
    "    "
   ]
  },
  {
   "cell_type": "code",
   "execution_count": null,
   "metadata": {},
   "outputs": [],
   "source": []
  }
 ],
 "metadata": {
  "kernelspec": {
   "display_name": "Python 3",
   "language": "python",
   "name": "python3"
  },
  "language_info": {
   "codemirror_mode": {
    "name": "ipython",
    "version": 3
   },
   "file_extension": ".py",
   "mimetype": "text/x-python",
   "name": "python",
   "nbconvert_exporter": "python",
   "pygments_lexer": "ipython3",
   "version": "3.6.5"
  }
 },
 "nbformat": 4,
 "nbformat_minor": 2
}
