{
 "cells": [
  {
   "cell_type": "code",
   "execution_count": 1,
   "metadata": {},
   "outputs": [],
   "source": [
    "#python 2 and 3 comptibility\n",
    "from __future__ import absolute_import\n",
    "from __future__ import division\n",
    "from __future__ import print_function\n",
    "import json\n",
    "import io\n",
    "import gzip\n",
    "import base64\n",
    "from astropy.io import fits\n",
    "import matplotlib.pylab as plt\n",
    "import pickle as pkl\n",
    "import numpy as np\n",
    "%matplotlib inline\n",
    "\n",
    "data_path = '/home/asceta/Projects/Alerce/AlerceDHtest/datasets/ZTF'\n",
    "\n",
    "#with open('/home/asceta/LRPpaper/datasets/ZTF/reals.pkl', 'rb') as f:\n",
    "#    reals = pkl.load(f)\n",
    "#with open('/home/asceta/LRPpaper/datasets/ZTF/bogus.pkl', 'rb') as f:\n",
    "#    bogus = pkl.load(f)\n",
    "    \n",
    "#print('Number of reals: %d' %len(reals))\n",
    "#print('Number of bogus: %d' %len(bogus))"
   ]
  },
  {
   "cell_type": "code",
   "execution_count": 2,
   "metadata": {},
   "outputs": [],
   "source": [
    "path = data_path+'/broker_reals.json'\n",
    "with open(path, \"r\") as f:\n",
    "        dataset = json.load(f)\n",
    "        \n"
   ]
  },
  {
   "cell_type": "code",
   "execution_count": 8,
   "metadata": {},
   "outputs": [],
   "source": [
    "KEY_TO_GET = 'magapbig'\n",
    "data_dict = {\"g\":{}, \"r\":{}, \"i\":{}}\n",
    "filters_ls = list(data_dict.keys())\n",
    "for alert in dataset[\"query_result\"]:\n",
    "    magapbig = alert[\"candidate\"][KEY_TO_GET]\n",
    "    fid = alert[\"candidate\"][\"fid\"]\n",
    "    \n",
    "    if KEY_TO_GET in data_dict[filters_ls[fid-1]].keys():\n",
    "        data_dict[filters_ls[fid-1]][KEY_TO_GET].append(magapbig)\n",
    "    else:\n",
    "        data_dict[filters_ls[fid-1]][KEY_TO_GET] = [magapbig,]\n",
    "    "
   ]
  },
  {
   "cell_type": "code",
   "execution_count": 24,
   "metadata": {},
   "outputs": [],
   "source": [
    "#all data to array\n",
    "#all_data_array = []\n",
    "#for channel in data_dict.keys():\n",
    "#    try:\n",
    "#        all_data_array.append(data_dict[channel][KEY_TO_GET])\n",
    "#    except:\n",
    "#        pass"
   ]
  },
  {
   "cell_type": "code",
   "execution_count": 30,
   "metadata": {},
   "outputs": [
    {
     "data": {
      "image/png": "[encoded data removed]",
      "text/plain": [
       "<Figure size 864x504 with 1 Axes>"
      ]
     },
     "metadata": {},
     "output_type": "display_data"
    }
   ],
   "source": [
    "plt.figure(figsize=(12,7))\n",
    "for channel in filters_ls:\n",
    "    try:\n",
    "        plt.hist(data_dict[channel][KEY_TO_GET], label=channel, alpha=0.5, bins = 100, density=True)\n",
    "    except:\n",
    "        pass\n",
    "plt.legend()\n",
    "plt.show()\n",
    "    "
   ]
  }
 ],
 "metadata": {
  "kernelspec": {
   "display_name": "Python 3",
   "language": "python",
   "name": "python3"
  },
  "language_info": {
   "codemirror_mode": {
    "name": "ipython",
    "version": 3
   },
   "file_extension": ".py",
   "mimetype": "text/x-python",
   "name": "python",
   "nbconvert_exporter": "python",
   "pygments_lexer": "ipython3",
   "version": "3.6.5"
  }
 },
 "nbformat": 4,
 "nbformat_minor": 2
}
